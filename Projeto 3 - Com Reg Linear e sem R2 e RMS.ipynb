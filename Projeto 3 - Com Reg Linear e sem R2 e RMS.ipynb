{
 "cells": [
  {
   "cell_type": "markdown",
   "metadata": {},
   "source": [
    "___\n",
    "# Ciência dos Dados - PROJETO 3 - INSPER"
   ]
  },
  {
   "cell_type": "markdown",
   "metadata": {},
   "source": [
    "___\n",
    "## Nome 1 - Augusto Franco de Paula\n",
    "\n",
    "## Nome 2 - Gabriel Heusi Pereira Bueno de Camargo\n",
    "\n",
    "## Nome 3 - Pedro Henrique Carvalho Daher\n",
    "\n",
    "___"
   ]
  },
  {
   "cell_type": "markdown",
   "metadata": {},
   "source": [
    "___\n",
    "\n",
    "# INTRODUÇÃO"
   ]
  },
  {
   "cell_type": "markdown",
   "metadata": {},
   "source": [
    "        A partir de um interesse sobre carros, o grupo optou por fazer um modelo de previsão dos preços de carros e ainda analisar aqueles considerados \"Overpriced\", ou seja acima do preço considerado padrão para determinado modelo. \n",
    "        A base de dados utilizada para o estudo é de 2017 e avalia apenas carros americanos, dessa forma deve-se explorar esta afim de possibilitar tal modelo de predição. Para isso será importante avaliar quais as variáveis de maior influência sobre o preço de um carro para que ao fim haja uma comparação entre o preço real do carro e seu preço esperado a partir das variáveis que o definem. Por fim a análise de carros acima do preço servirá como dado de eficiência do estudo \n",
    "        Dessa forma baseou-se em artigos cientificos e estudos que avaliam os modelos de distribuicão destes preços, entre eles estão: "
   ]
  },
  {
   "cell_type": "markdown",
   "metadata": {},
   "source": [
    "___\n",
    "# MINERANDO DADOS e CARACTERÍSTICAS DO DATASET"
   ]
  },
  {
   "cell_type": "code",
   "execution_count": 17,
   "metadata": {
    "collapsed": false
   },
   "outputs": [],
   "source": [
    "import pandas as pd\n",
    "import matplotlib.pyplot as plt\n",
    "from sklearn.utils import shuffle\n",
    "import os\n",
    "import math\n",
    "from sklearn.linear_model import Ridge, Lasso\n",
    "from sys import stdin\n",
    "from numpy import arange\n",
    "import numpy as np\n",
    "import seaborn as sns\n",
    "from sklearn import preprocessing, cross_validation, neighbors"
   ]
  },
  {
   "cell_type": "code",
   "execution_count": 18,
   "metadata": {
    "collapsed": false
   },
   "outputs": [
    {
     "name": "stdout",
     "output_type": "stream",
     "text": [
      "Esperamos trabalhar no diretório\n",
      "C:\\Users\\Augusto\\Desktop\\DP Ciência dos Dados\\Projeto3\n"
     ]
    }
   ],
   "source": [
    "print('Esperamos trabalhar no diretório')\n",
    "print(os.getcwd())\n",
    "data = pd.read_csv('data.csv')\n"
   ]
  },
  {
   "cell_type": "markdown",
   "metadata": {},
   "source": [
    "# BASE DE DADOS"
   ]
  },
  {
   "cell_type": "code",
   "execution_count": 19,
   "metadata": {
    "collapsed": false
   },
   "outputs": [
    {
     "data": {
      "text/html": [
       "<div>\n",
       "<table border=\"1\" class=\"dataframe\">\n",
       "  <thead>\n",
       "    <tr style=\"text-align: right;\">\n",
       "      <th></th>\n",
       "      <th>Make</th>\n",
       "      <th>Model</th>\n",
       "      <th>Year</th>\n",
       "      <th>Engine Fuel Type</th>\n",
       "      <th>Engine HP</th>\n",
       "      <th>Engine Cylinders</th>\n",
       "      <th>Transmission Type</th>\n",
       "      <th>Driven_Wheels</th>\n",
       "      <th>Number of Doors</th>\n",
       "      <th>Market Category</th>\n",
       "      <th>Vehicle Size</th>\n",
       "      <th>Vehicle Style</th>\n",
       "      <th>highway MPG</th>\n",
       "      <th>city mpg</th>\n",
       "      <th>Popularity</th>\n",
       "      <th>MSRP</th>\n",
       "    </tr>\n",
       "  </thead>\n",
       "  <tbody>\n",
       "    <tr>\n",
       "      <th>6671</th>\n",
       "      <td>Chevrolet</td>\n",
       "      <td>Malibu</td>\n",
       "      <td>2015</td>\n",
       "      <td>regular unleaded</td>\n",
       "      <td>196.0</td>\n",
       "      <td>4.0</td>\n",
       "      <td>AUTOMATIC</td>\n",
       "      <td>front wheel drive</td>\n",
       "      <td>4.0</td>\n",
       "      <td>NaN</td>\n",
       "      <td>Midsize</td>\n",
       "      <td>Sedan</td>\n",
       "      <td>36</td>\n",
       "      <td>25</td>\n",
       "      <td>1385</td>\n",
       "      <td>28195</td>\n",
       "    </tr>\n",
       "    <tr>\n",
       "      <th>223</th>\n",
       "      <td>Chrysler</td>\n",
       "      <td>300</td>\n",
       "      <td>2017</td>\n",
       "      <td>regular unleaded</td>\n",
       "      <td>292.0</td>\n",
       "      <td>6.0</td>\n",
       "      <td>AUTOMATIC</td>\n",
       "      <td>all wheel drive</td>\n",
       "      <td>4.0</td>\n",
       "      <td>NaN</td>\n",
       "      <td>Large</td>\n",
       "      <td>Sedan</td>\n",
       "      <td>27</td>\n",
       "      <td>18</td>\n",
       "      <td>1013</td>\n",
       "      <td>41135</td>\n",
       "    </tr>\n",
       "    <tr>\n",
       "      <th>6963</th>\n",
       "      <td>Pontiac</td>\n",
       "      <td>Montana</td>\n",
       "      <td>2005</td>\n",
       "      <td>regular unleaded</td>\n",
       "      <td>200.0</td>\n",
       "      <td>6.0</td>\n",
       "      <td>AUTOMATIC</td>\n",
       "      <td>all wheel drive</td>\n",
       "      <td>4.0</td>\n",
       "      <td>NaN</td>\n",
       "      <td>Midsize</td>\n",
       "      <td>Passenger Minivan</td>\n",
       "      <td>21</td>\n",
       "      <td>15</td>\n",
       "      <td>210</td>\n",
       "      <td>27700</td>\n",
       "    </tr>\n",
       "    <tr>\n",
       "      <th>3016</th>\n",
       "      <td>Chevrolet</td>\n",
       "      <td>Corvette</td>\n",
       "      <td>2017</td>\n",
       "      <td>premium unleaded (recommended)</td>\n",
       "      <td>455.0</td>\n",
       "      <td>8.0</td>\n",
       "      <td>MANUAL</td>\n",
       "      <td>rear wheel drive</td>\n",
       "      <td>2.0</td>\n",
       "      <td>High-Performance</td>\n",
       "      <td>Compact</td>\n",
       "      <td>Convertible</td>\n",
       "      <td>25</td>\n",
       "      <td>16</td>\n",
       "      <td>1385</td>\n",
       "      <td>69195</td>\n",
       "    </tr>\n",
       "    <tr>\n",
       "      <th>5397</th>\n",
       "      <td>Volkswagen</td>\n",
       "      <td>Golf GTI</td>\n",
       "      <td>2016</td>\n",
       "      <td>premium unleaded (recommended)</td>\n",
       "      <td>210.0</td>\n",
       "      <td>4.0</td>\n",
       "      <td>MANUAL</td>\n",
       "      <td>front wheel drive</td>\n",
       "      <td>2.0</td>\n",
       "      <td>Hatchback,Performance</td>\n",
       "      <td>Compact</td>\n",
       "      <td>2dr Hatchback</td>\n",
       "      <td>34</td>\n",
       "      <td>25</td>\n",
       "      <td>873</td>\n",
       "      <td>28025</td>\n",
       "    </tr>\n",
       "  </tbody>\n",
       "</table>\n",
       "</div>"
      ],
      "text/plain": [
       "            Make     Model  Year                Engine Fuel Type  Engine HP  \\\n",
       "6671   Chevrolet    Malibu  2015                regular unleaded      196.0   \n",
       "223     Chrysler       300  2017                regular unleaded      292.0   \n",
       "6963     Pontiac   Montana  2005                regular unleaded      200.0   \n",
       "3016   Chevrolet  Corvette  2017  premium unleaded (recommended)      455.0   \n",
       "5397  Volkswagen  Golf GTI  2016  premium unleaded (recommended)      210.0   \n",
       "\n",
       "      Engine Cylinders Transmission Type      Driven_Wheels  Number of Doors  \\\n",
       "6671               4.0         AUTOMATIC  front wheel drive              4.0   \n",
       "223                6.0         AUTOMATIC    all wheel drive              4.0   \n",
       "6963               6.0         AUTOMATIC    all wheel drive              4.0   \n",
       "3016               8.0            MANUAL   rear wheel drive              2.0   \n",
       "5397               4.0            MANUAL  front wheel drive              2.0   \n",
       "\n",
       "            Market Category Vehicle Size      Vehicle Style  highway MPG  \\\n",
       "6671                    NaN      Midsize              Sedan           36   \n",
       "223                     NaN        Large              Sedan           27   \n",
       "6963                    NaN      Midsize  Passenger Minivan           21   \n",
       "3016       High-Performance      Compact        Convertible           25   \n",
       "5397  Hatchback,Performance      Compact      2dr Hatchback           34   \n",
       "\n",
       "      city mpg  Popularity   MSRP  \n",
       "6671        25        1385  28195  \n",
       "223         18        1013  41135  \n",
       "6963        15         210  27700  \n",
       "3016        16        1385  69195  \n",
       "5397        25         873  28025  "
      ]
     },
     "execution_count": 19,
     "metadata": {},
     "output_type": "execute_result"
    }
   ],
   "source": [
    "data = shuffle(data)\n",
    "data.head()"
   ]
  },
  {
   "cell_type": "code",
   "execution_count": 20,
   "metadata": {
    "collapsed": false
   },
   "outputs": [
    {
     "data": {
      "text/plain": [
       "<matplotlib.axes._subplots.AxesSubplot at 0x1e33db8f978>"
      ]
     },
     "execution_count": 20,
     "metadata": {},
     "output_type": "execute_result"
    }
   ],
   "source": [
    "sns.heatmap(data.corr(), annot=True, fmt=\".1f\")"
   ]
  },
  {
   "cell_type": "markdown",
   "metadata": {
    "collapsed": false
   },
   "source": [
    "### A partir do mapa mostrado acima é possível identificar a influência (correlação) de uma variável sobre o preço de um carro. Dessa forma basta analisar e perceber que as três que apresentam maior proporcionalidade são: Ano de fabricação (Year), Potência do Motor (Engine HP) e número de cilindros (Engine Cylinders). Vale lembrar que isto era esperado, afinal essa ferramenta só é capaz de comparar dados quantitativos."
   ]
  },
  {
   "cell_type": "markdown",
   "metadata": {},
   "source": [
    "# Análise Descritiva"
   ]
  },
  {
   "cell_type": "markdown",
   "metadata": {},
   "source": [
    "### A partir desta seção será reavaliada a ideia das variáveis e sua distribuição de acordo com o preço. Como por exemplo a \"Engine Cylinders\" será categorizado como uma espécie de força fornecida pelos cilindros ao carro e ainda observar onde a predominância do preço dos carros, separando em faixas de valor de compra/venda. "
   ]
  },
  {
   "cell_type": "code",
   "execution_count": 21,
   "metadata": {
    "collapsed": false
   },
   "outputs": [
    {
     "data": {
      "text/html": [
       "<div>\n",
       "<table border=\"1\" class=\"dataframe\">\n",
       "  <thead>\n",
       "    <tr style=\"text-align: right;\">\n",
       "      <th></th>\n",
       "      <th>Ano</th>\n",
       "      <th>Potência</th>\n",
       "      <th>Cilindros</th>\n",
       "      <th>Price</th>\n",
       "    </tr>\n",
       "  </thead>\n",
       "  <tbody>\n",
       "    <tr>\n",
       "      <th>6671</th>\n",
       "      <td>2015</td>\n",
       "      <td>196.0</td>\n",
       "      <td>4.0</td>\n",
       "      <td>28195</td>\n",
       "    </tr>\n",
       "    <tr>\n",
       "      <th>223</th>\n",
       "      <td>2017</td>\n",
       "      <td>292.0</td>\n",
       "      <td>6.0</td>\n",
       "      <td>41135</td>\n",
       "    </tr>\n",
       "    <tr>\n",
       "      <th>6963</th>\n",
       "      <td>2005</td>\n",
       "      <td>200.0</td>\n",
       "      <td>6.0</td>\n",
       "      <td>27700</td>\n",
       "    </tr>\n",
       "    <tr>\n",
       "      <th>3016</th>\n",
       "      <td>2017</td>\n",
       "      <td>455.0</td>\n",
       "      <td>8.0</td>\n",
       "      <td>69195</td>\n",
       "    </tr>\n",
       "    <tr>\n",
       "      <th>5397</th>\n",
       "      <td>2016</td>\n",
       "      <td>210.0</td>\n",
       "      <td>4.0</td>\n",
       "      <td>28025</td>\n",
       "    </tr>\n",
       "    <tr>\n",
       "      <th>5393</th>\n",
       "      <td>2016</td>\n",
       "      <td>210.0</td>\n",
       "      <td>4.0</td>\n",
       "      <td>30135</td>\n",
       "    </tr>\n",
       "    <tr>\n",
       "      <th>5405</th>\n",
       "      <td>2017</td>\n",
       "      <td>210.0</td>\n",
       "      <td>4.0</td>\n",
       "      <td>25595</td>\n",
       "    </tr>\n",
       "    <tr>\n",
       "      <th>5302</th>\n",
       "      <td>2016</td>\n",
       "      <td>208.0</td>\n",
       "      <td>4.0</td>\n",
       "      <td>34500</td>\n",
       "    </tr>\n",
       "    <tr>\n",
       "      <th>4556</th>\n",
       "      <td>2017</td>\n",
       "      <td>365.0</td>\n",
       "      <td>6.0</td>\n",
       "      <td>59600</td>\n",
       "    </tr>\n",
       "    <tr>\n",
       "      <th>1225</th>\n",
       "      <td>2015</td>\n",
       "      <td>278.0</td>\n",
       "      <td>6.0</td>\n",
       "      <td>30495</td>\n",
       "    </tr>\n",
       "    <tr>\n",
       "      <th>8077</th>\n",
       "      <td>1993</td>\n",
       "      <td>230.0</td>\n",
       "      <td>8.0</td>\n",
       "      <td>2008</td>\n",
       "    </tr>\n",
       "    <tr>\n",
       "      <th>2224</th>\n",
       "      <td>2007</td>\n",
       "      <td>210.0</td>\n",
       "      <td>6.0</td>\n",
       "      <td>27190</td>\n",
       "    </tr>\n",
       "    <tr>\n",
       "      <th>5928</th>\n",
       "      <td>2000</td>\n",
       "      <td>140.0</td>\n",
       "      <td>4.0</td>\n",
       "      <td>3222</td>\n",
       "    </tr>\n",
       "    <tr>\n",
       "      <th>6907</th>\n",
       "      <td>2016</td>\n",
       "      <td>231.0</td>\n",
       "      <td>4.0</td>\n",
       "      <td>35190</td>\n",
       "    </tr>\n",
       "    <tr>\n",
       "      <th>9752</th>\n",
       "      <td>2017</td>\n",
       "      <td>185.0</td>\n",
       "      <td>4.0</td>\n",
       "      <td>21950</td>\n",
       "    </tr>\n",
       "    <tr>\n",
       "      <th>10017</th>\n",
       "      <td>2005</td>\n",
       "      <td>150.0</td>\n",
       "      <td>4.0</td>\n",
       "      <td>20255</td>\n",
       "    </tr>\n",
       "    <tr>\n",
       "      <th>7548</th>\n",
       "      <td>2005</td>\n",
       "      <td>420.0</td>\n",
       "      <td>12.0</td>\n",
       "      <td>100800</td>\n",
       "    </tr>\n",
       "    <tr>\n",
       "      <th>984</th>\n",
       "      <td>1993</td>\n",
       "      <td>114.0</td>\n",
       "      <td>4.0</td>\n",
       "      <td>2000</td>\n",
       "    </tr>\n",
       "    <tr>\n",
       "      <th>8445</th>\n",
       "      <td>1991</td>\n",
       "      <td>170.0</td>\n",
       "      <td>6.0</td>\n",
       "      <td>2000</td>\n",
       "    </tr>\n",
       "    <tr>\n",
       "      <th>7135</th>\n",
       "      <td>1992</td>\n",
       "      <td>155.0</td>\n",
       "      <td>6.0</td>\n",
       "      <td>2000</td>\n",
       "    </tr>\n",
       "    <tr>\n",
       "      <th>433</th>\n",
       "      <td>2015</td>\n",
       "      <td>240.0</td>\n",
       "      <td>4.0</td>\n",
       "      <td>40750</td>\n",
       "    </tr>\n",
       "    <tr>\n",
       "      <th>6526</th>\n",
       "      <td>2009</td>\n",
       "      <td>292.0</td>\n",
       "      <td>8.0</td>\n",
       "      <td>40205</td>\n",
       "    </tr>\n",
       "    <tr>\n",
       "      <th>2967</th>\n",
       "      <td>2014</td>\n",
       "      <td>455.0</td>\n",
       "      <td>8.0</td>\n",
       "      <td>58000</td>\n",
       "    </tr>\n",
       "    <tr>\n",
       "      <th>2223</th>\n",
       "      <td>2007</td>\n",
       "      <td>210.0</td>\n",
       "      <td>6.0</td>\n",
       "      <td>29460</td>\n",
       "    </tr>\n",
       "    <tr>\n",
       "      <th>8079</th>\n",
       "      <td>1993</td>\n",
       "      <td>180.0</td>\n",
       "      <td>6.0</td>\n",
       "      <td>2000</td>\n",
       "    </tr>\n",
       "    <tr>\n",
       "      <th>8621</th>\n",
       "      <td>2011</td>\n",
       "      <td>283.0</td>\n",
       "      <td>6.0</td>\n",
       "      <td>26930</td>\n",
       "    </tr>\n",
       "    <tr>\n",
       "      <th>710</th>\n",
       "      <td>2016</td>\n",
       "      <td>184.0</td>\n",
       "      <td>4.0</td>\n",
       "      <td>22995</td>\n",
       "    </tr>\n",
       "    <tr>\n",
       "      <th>3150</th>\n",
       "      <td>2015</td>\n",
       "      <td>138.0</td>\n",
       "      <td>4.0</td>\n",
       "      <td>20095</td>\n",
       "    </tr>\n",
       "    <tr>\n",
       "      <th>10040</th>\n",
       "      <td>2016</td>\n",
       "      <td>355.0</td>\n",
       "      <td>8.0</td>\n",
       "      <td>54730</td>\n",
       "    </tr>\n",
       "    <tr>\n",
       "      <th>9807</th>\n",
       "      <td>2003</td>\n",
       "      <td>120.0</td>\n",
       "      <td>4.0</td>\n",
       "      <td>16270</td>\n",
       "    </tr>\n",
       "    <tr>\n",
       "      <th>...</th>\n",
       "      <td>...</td>\n",
       "      <td>...</td>\n",
       "      <td>...</td>\n",
       "      <td>...</td>\n",
       "    </tr>\n",
       "    <tr>\n",
       "      <th>3170</th>\n",
       "      <td>2017</td>\n",
       "      <td>153.0</td>\n",
       "      <td>4.0</td>\n",
       "      <td>20150</td>\n",
       "    </tr>\n",
       "    <tr>\n",
       "      <th>4316</th>\n",
       "      <td>2016</td>\n",
       "      <td>365.0</td>\n",
       "      <td>6.0</td>\n",
       "      <td>60835</td>\n",
       "    </tr>\n",
       "    <tr>\n",
       "      <th>8113</th>\n",
       "      <td>1991</td>\n",
       "      <td>116.0</td>\n",
       "      <td>4.0</td>\n",
       "      <td>2000</td>\n",
       "    </tr>\n",
       "    <tr>\n",
       "      <th>10416</th>\n",
       "      <td>2016</td>\n",
       "      <td>200.0</td>\n",
       "      <td>4.0</td>\n",
       "      <td>36420</td>\n",
       "    </tr>\n",
       "    <tr>\n",
       "      <th>3276</th>\n",
       "      <td>2017</td>\n",
       "      <td>268.0</td>\n",
       "      <td>4.0</td>\n",
       "      <td>51695</td>\n",
       "    </tr>\n",
       "    <tr>\n",
       "      <th>7125</th>\n",
       "      <td>2016</td>\n",
       "      <td>155.0</td>\n",
       "      <td>4.0</td>\n",
       "      <td>31270</td>\n",
       "    </tr>\n",
       "    <tr>\n",
       "      <th>4910</th>\n",
       "      <td>2004</td>\n",
       "      <td>174.0</td>\n",
       "      <td>6.0</td>\n",
       "      <td>28330</td>\n",
       "    </tr>\n",
       "    <tr>\n",
       "      <th>6267</th>\n",
       "      <td>2011</td>\n",
       "      <td>180.0</td>\n",
       "      <td>4.0</td>\n",
       "      <td>27299</td>\n",
       "    </tr>\n",
       "    <tr>\n",
       "      <th>3400</th>\n",
       "      <td>2014</td>\n",
       "      <td>273.0</td>\n",
       "      <td>6.0</td>\n",
       "      <td>31575</td>\n",
       "    </tr>\n",
       "    <tr>\n",
       "      <th>9547</th>\n",
       "      <td>2015</td>\n",
       "      <td>285.0</td>\n",
       "      <td>6.0</td>\n",
       "      <td>37045</td>\n",
       "    </tr>\n",
       "    <tr>\n",
       "      <th>11425</th>\n",
       "      <td>2000</td>\n",
       "      <td>158.0</td>\n",
       "      <td>6.0</td>\n",
       "      <td>2317</td>\n",
       "    </tr>\n",
       "    <tr>\n",
       "      <th>10795</th>\n",
       "      <td>2008</td>\n",
       "      <td>133.0</td>\n",
       "      <td>4.0</td>\n",
       "      <td>25485</td>\n",
       "    </tr>\n",
       "    <tr>\n",
       "      <th>5266</th>\n",
       "      <td>2016</td>\n",
       "      <td>420.0</td>\n",
       "      <td>8.0</td>\n",
       "      <td>53850</td>\n",
       "    </tr>\n",
       "    <tr>\n",
       "      <th>5261</th>\n",
       "      <td>2015</td>\n",
       "      <td>420.0</td>\n",
       "      <td>8.0</td>\n",
       "      <td>51500</td>\n",
       "    </tr>\n",
       "    <tr>\n",
       "      <th>7650</th>\n",
       "      <td>1995</td>\n",
       "      <td>161.0</td>\n",
       "      <td>4.0</td>\n",
       "      <td>2194</td>\n",
       "    </tr>\n",
       "    <tr>\n",
       "      <th>9342</th>\n",
       "      <td>2015</td>\n",
       "      <td>355.0</td>\n",
       "      <td>8.0</td>\n",
       "      <td>49665</td>\n",
       "    </tr>\n",
       "    <tr>\n",
       "      <th>1701</th>\n",
       "      <td>1999</td>\n",
       "      <td>150.0</td>\n",
       "      <td>6.0</td>\n",
       "      <td>3214</td>\n",
       "    </tr>\n",
       "    <tr>\n",
       "      <th>8028</th>\n",
       "      <td>2009</td>\n",
       "      <td>210.0</td>\n",
       "      <td>6.0</td>\n",
       "      <td>29425</td>\n",
       "    </tr>\n",
       "    <tr>\n",
       "      <th>11130</th>\n",
       "      <td>2016</td>\n",
       "      <td>250.0</td>\n",
       "      <td>5.0</td>\n",
       "      <td>39600</td>\n",
       "    </tr>\n",
       "    <tr>\n",
       "      <th>11691</th>\n",
       "      <td>2007</td>\n",
       "      <td>252.0</td>\n",
       "      <td>6.0</td>\n",
       "      <td>28349</td>\n",
       "    </tr>\n",
       "    <tr>\n",
       "      <th>10265</th>\n",
       "      <td>2016</td>\n",
       "      <td>355.0</td>\n",
       "      <td>8.0</td>\n",
       "      <td>61740</td>\n",
       "    </tr>\n",
       "    <tr>\n",
       "      <th>7297</th>\n",
       "      <td>2015</td>\n",
       "      <td>248.0</td>\n",
       "      <td>6.0</td>\n",
       "      <td>42030</td>\n",
       "    </tr>\n",
       "    <tr>\n",
       "      <th>5769</th>\n",
       "      <td>2010</td>\n",
       "      <td>187.0</td>\n",
       "      <td>4.0</td>\n",
       "      <td>37420</td>\n",
       "    </tr>\n",
       "    <tr>\n",
       "      <th>4625</th>\n",
       "      <td>1998</td>\n",
       "      <td>220.0</td>\n",
       "      <td>8.0</td>\n",
       "      <td>3223</td>\n",
       "    </tr>\n",
       "    <tr>\n",
       "      <th>1665</th>\n",
       "      <td>2015</td>\n",
       "      <td>293.0</td>\n",
       "      <td>6.0</td>\n",
       "      <td>34000</td>\n",
       "    </tr>\n",
       "    <tr>\n",
       "      <th>2369</th>\n",
       "      <td>2005</td>\n",
       "      <td>140.0</td>\n",
       "      <td>4.0</td>\n",
       "      <td>10325</td>\n",
       "    </tr>\n",
       "    <tr>\n",
       "      <th>1866</th>\n",
       "      <td>2016</td>\n",
       "      <td>210.0</td>\n",
       "      <td>4.0</td>\n",
       "      <td>31570</td>\n",
       "    </tr>\n",
       "    <tr>\n",
       "      <th>770</th>\n",
       "      <td>1992</td>\n",
       "      <td>130.0</td>\n",
       "      <td>5.0</td>\n",
       "      <td>2000</td>\n",
       "    </tr>\n",
       "    <tr>\n",
       "      <th>9654</th>\n",
       "      <td>1997</td>\n",
       "      <td>155.0</td>\n",
       "      <td>6.0</td>\n",
       "      <td>2000</td>\n",
       "    </tr>\n",
       "    <tr>\n",
       "      <th>2638</th>\n",
       "      <td>1997</td>\n",
       "      <td>200.0</td>\n",
       "      <td>6.0</td>\n",
       "      <td>2366</td>\n",
       "    </tr>\n",
       "  </tbody>\n",
       "</table>\n",
       "<p>11306 rows × 4 columns</p>\n",
       "</div>"
      ],
      "text/plain": [
       "        Ano  Potência  Cilindros   Price\n",
       "6671   2015     196.0        4.0   28195\n",
       "223    2017     292.0        6.0   41135\n",
       "6963   2005     200.0        6.0   27700\n",
       "3016   2017     455.0        8.0   69195\n",
       "5397   2016     210.0        4.0   28025\n",
       "5393   2016     210.0        4.0   30135\n",
       "5405   2017     210.0        4.0   25595\n",
       "5302   2016     208.0        4.0   34500\n",
       "4556   2017     365.0        6.0   59600\n",
       "1225   2015     278.0        6.0   30495\n",
       "8077   1993     230.0        8.0    2008\n",
       "2224   2007     210.0        6.0   27190\n",
       "5928   2000     140.0        4.0    3222\n",
       "6907   2016     231.0        4.0   35190\n",
       "9752   2017     185.0        4.0   21950\n",
       "10017  2005     150.0        4.0   20255\n",
       "7548   2005     420.0       12.0  100800\n",
       "984    1993     114.0        4.0    2000\n",
       "8445   1991     170.0        6.0    2000\n",
       "7135   1992     155.0        6.0    2000\n",
       "433    2015     240.0        4.0   40750\n",
       "6526   2009     292.0        8.0   40205\n",
       "2967   2014     455.0        8.0   58000\n",
       "2223   2007     210.0        6.0   29460\n",
       "8079   1993     180.0        6.0    2000\n",
       "8621   2011     283.0        6.0   26930\n",
       "710    2016     184.0        4.0   22995\n",
       "3150   2015     138.0        4.0   20095\n",
       "10040  2016     355.0        8.0   54730\n",
       "9807   2003     120.0        4.0   16270\n",
       "...     ...       ...        ...     ...\n",
       "3170   2017     153.0        4.0   20150\n",
       "4316   2016     365.0        6.0   60835\n",
       "8113   1991     116.0        4.0    2000\n",
       "10416  2016     200.0        4.0   36420\n",
       "3276   2017     268.0        4.0   51695\n",
       "7125   2016     155.0        4.0   31270\n",
       "4910   2004     174.0        6.0   28330\n",
       "6267   2011     180.0        4.0   27299\n",
       "3400   2014     273.0        6.0   31575\n",
       "9547   2015     285.0        6.0   37045\n",
       "11425  2000     158.0        6.0    2317\n",
       "10795  2008     133.0        4.0   25485\n",
       "5266   2016     420.0        8.0   53850\n",
       "5261   2015     420.0        8.0   51500\n",
       "7650   1995     161.0        4.0    2194\n",
       "9342   2015     355.0        8.0   49665\n",
       "1701   1999     150.0        6.0    3214\n",
       "8028   2009     210.0        6.0   29425\n",
       "11130  2016     250.0        5.0   39600\n",
       "11691  2007     252.0        6.0   28349\n",
       "10265  2016     355.0        8.0   61740\n",
       "7297   2015     248.0        6.0   42030\n",
       "5769   2010     187.0        4.0   37420\n",
       "4625   1998     220.0        8.0    3223\n",
       "1665   2015     293.0        6.0   34000\n",
       "2369   2005     140.0        4.0   10325\n",
       "1866   2016     210.0        4.0   31570\n",
       "770    1992     130.0        5.0    2000\n",
       "9654   1997     155.0        6.0    2000\n",
       "2638   1997     200.0        6.0    2366\n",
       "\n",
       "[11306 rows x 4 columns]"
      ]
     },
     "execution_count": 21,
     "metadata": {},
     "output_type": "execute_result"
    }
   ],
   "source": [
    "data = data.loc[data['Engine Cylinders']>0,['Year','Engine HP','Engine Cylinders','MSRP']]\n",
    "data = data.loc[data['MSRP']<125000,['Year','Engine HP','Engine Cylinders','MSRP']]\n",
    "data = data.loc[data['Engine HP']>0,['Year','Engine HP','Engine Cylinders','MSRP']]\n",
    "data.columns=[\"Ano\",\"Potência\",\"Cilindros\",\"Price\"]\n",
    "data.dropna()"
   ]
  },
  {
   "cell_type": "code",
   "execution_count": 22,
   "metadata": {
    "collapsed": false
   },
   "outputs": [
    {
     "data": {
      "text/plain": [
       "(5000, 8000]       0.291545\n",
       "(8000, 11000]      0.205161\n",
       "(11000, 14000]     0.831444\n",
       "(14000, 17000]     4.459562\n",
       "(17000, 20000]     6.046863\n",
       "(20000, 23000]     9.405032\n",
       "(23000, 26000]    11.186697\n",
       "(26000, 29000]    10.538819\n",
       "(29000, 32000]    10.679192\n",
       "(32000, 35000]     8.638376\n",
       "(35000, 38000]     7.482993\n",
       "(38000, 41000]     6.165641\n",
       "(41000, 44000]     5.344995\n",
       "(44000, 47000]     4.070835\n",
       "(47000, 50000]     3.358169\n",
       "(50000, 53000]     2.569917\n",
       "(53000, 56000]     1.997624\n",
       "(56000, 59000]     1.241767\n",
       "(59000, 62000]     1.382140\n",
       "(62000, 65000]     1.446928\n",
       "(65000, 68000]     0.950221\n",
       "(68000, 71000]     0.701868\n",
       "(71000, 74000]     0.442717\n",
       "(74000, 77000]     0.561494\n",
       "Name: Price, dtype: float64"
      ]
     },
     "execution_count": 22,
     "metadata": {},
     "output_type": "execute_result"
    }
   ],
   "source": [
    "faixa = range(5000,80000,3000)\n",
    "price = pd.cut(data.Price, bins=faixa)\n",
    "price.value_counts(sort=False, normalize=True)*100"
   ]
  },
  {
   "cell_type": "code",
   "execution_count": 23,
   "metadata": {
    "collapsed": false
   },
   "outputs": [
    {
     "data": {
      "image/png": "[encoded data removed]",
      "text/plain": [
       "<matplotlib.figure.Figure at 0x1e33db8fc18>"
      ]
     },
     "metadata": {},
     "output_type": "display_data"
    }
   ],
   "source": [
    "plot = data.Price.plot.hist(bins=faixa,title='Histograma de Distribuição do Preço dos Carros (H1)', figsize=(6, 6), alpha=0.9)\n",
    "plt.show()"
   ]
  },
  {
   "cell_type": "markdown",
   "metadata": {},
   "source": [
    "#### Histograma que possibilita a visualização da distribuição dos preços dos carros de acordo com faixas de preço."
   ]
  },
  {
   "cell_type": "markdown",
   "metadata": {},
   "source": [
    "___\n",
    "# MODELOS DE PREDIÇÃO"
   ]
  },
  {
   "cell_type": "markdown",
   "metadata": {
    "collapsed": true
   },
   "source": [
    "[O tópico C.PROCESSO E ESTATÍSTICAS DE VALIDAÇÃO estará dentro deste tópico. Organize-o aqui de forma clara!]\n",
    "\n",
    "[ORGANIZE AQUI TODOS OS MODELOS DE PREDIÇÃO NECESSÁRIOS NESTE PROJETO!]"
   ]
  },
  {
   "cell_type": "markdown",
   "metadata": {
    "collapsed": true
   },
   "source": [
    "o MODELO DE PREDIÇÃO PELA MÉDIA\n",
    "\n",
    "o MODELO DOS K VIZINHOS MAIS PRÓXIMOS (K-Nearest Neighbors Regression)\n",
    "\n",
    "o MODELO DE REGRESSÃO LINEAR (Multiple Linear Regression)\n",
    "\n",
    "o MODELO DE ÁRVORES DE REGRESSÃO (Decision Tree Regression)"
   ]
  },
  {
   "cell_type": "markdown",
   "metadata": {},
   "source": [
    "### Sepração da base de dados em treino e teste, considerando que 30% do dataframe ('data') será selecionado aleatoriamente para teste e os outros 70% para treinamento"
   ]
  },
  {
   "cell_type": "code",
   "execution_count": 24,
   "metadata": {
    "collapsed": false
   },
   "outputs": [
    {
     "data": {
      "text/html": [
       "<div>\n",
       "<table border=\"1\" class=\"dataframe\">\n",
       "  <thead>\n",
       "    <tr style=\"text-align: right;\">\n",
       "      <th></th>\n",
       "      <th>Ano</th>\n",
       "      <th>Potência</th>\n",
       "      <th>Cilindros</th>\n",
       "      <th>Price</th>\n",
       "    </tr>\n",
       "  </thead>\n",
       "  <tbody>\n",
       "    <tr>\n",
       "      <th>count</th>\n",
       "      <td>7914.000000</td>\n",
       "      <td>7914.000000</td>\n",
       "      <td>7914.000000</td>\n",
       "      <td>7914.000000</td>\n",
       "    </tr>\n",
       "    <tr>\n",
       "      <th>mean</th>\n",
       "      <td>2010.254107</td>\n",
       "      <td>238.633561</td>\n",
       "      <td>5.501516</td>\n",
       "      <td>31659.182714</td>\n",
       "    </tr>\n",
       "    <tr>\n",
       "      <th>std</th>\n",
       "      <td>7.668393</td>\n",
       "      <td>92.542051</td>\n",
       "      <td>1.475803</td>\n",
       "      <td>20798.292798</td>\n",
       "    </tr>\n",
       "    <tr>\n",
       "      <th>min</th>\n",
       "      <td>1990.000000</td>\n",
       "      <td>55.000000</td>\n",
       "      <td>3.000000</td>\n",
       "      <td>2000.000000</td>\n",
       "    </tr>\n",
       "    <tr>\n",
       "      <th>25%</th>\n",
       "      <td>2006.000000</td>\n",
       "      <td>170.000000</td>\n",
       "      <td>4.000000</td>\n",
       "      <td>20499.250000</td>\n",
       "    </tr>\n",
       "    <tr>\n",
       "      <th>50%</th>\n",
       "      <td>2015.000000</td>\n",
       "      <td>220.000000</td>\n",
       "      <td>6.000000</td>\n",
       "      <td>29300.000000</td>\n",
       "    </tr>\n",
       "    <tr>\n",
       "      <th>75%</th>\n",
       "      <td>2016.000000</td>\n",
       "      <td>292.000000</td>\n",
       "      <td>6.000000</td>\n",
       "      <td>40342.500000</td>\n",
       "    </tr>\n",
       "    <tr>\n",
       "      <th>max</th>\n",
       "      <td>2017.000000</td>\n",
       "      <td>707.000000</td>\n",
       "      <td>12.000000</td>\n",
       "      <td>124900.000000</td>\n",
       "    </tr>\n",
       "  </tbody>\n",
       "</table>\n",
       "</div>"
      ],
      "text/plain": [
       "               Ano     Potência    Cilindros          Price\n",
       "count  7914.000000  7914.000000  7914.000000    7914.000000\n",
       "mean   2010.254107   238.633561     5.501516   31659.182714\n",
       "std       7.668393    92.542051     1.475803   20798.292798\n",
       "min    1990.000000    55.000000     3.000000    2000.000000\n",
       "25%    2006.000000   170.000000     4.000000   20499.250000\n",
       "50%    2015.000000   220.000000     6.000000   29300.000000\n",
       "75%    2016.000000   292.000000     6.000000   40342.500000\n",
       "max    2017.000000   707.000000    12.000000  124900.000000"
      ]
     },
     "execution_count": 24,
     "metadata": {},
     "output_type": "execute_result"
    }
   ],
   "source": [
    "from sklearn.model_selection import train_test_split as split\n",
    "train, test = split(data, test_size=0.3)\n",
    "train.describe()"
   ]
  },
  {
   "cell_type": "markdown",
   "metadata": {},
   "source": [
    "## MODELO DE PREDIÇÃO PELA MÉDIA"
   ]
  },
  {
   "cell_type": "markdown",
   "metadata": {},
   "source": [
    "### O primeiro modelo de predição realizado foi pela média, que consiste basicamente na análise da média da variável que esperamos prever, no caso o preço dos carros. Para isso basta analisar a média de preços e essa será o valor esperado para o carro"
   ]
  },
  {
   "cell_type": "code",
   "execution_count": 25,
   "metadata": {
    "collapsed": false
   },
   "outputs": [
    {
     "name": "stdout",
     "output_type": "stream",
     "text": [
      "O preço esperado de um carro a partir da predição pela média é: 31659.18271417741\n"
     ]
    }
   ],
   "source": [
    "print('O preço esperado de um carro a partir da predição pela média é:',train.Price.mean())"
   ]
  },
  {
   "cell_type": "markdown",
   "metadata": {},
   "source": [
    "### Coeficiente de determinação (R2) e Raiz do erro médio quadrático (RMS)"
   ]
  },
  {
   "cell_type": "code",
   "execution_count": 26,
   "metadata": {
    "collapsed": false
   },
   "outputs": [],
   "source": [
    "#R2\n",
    "#n = len(train)\n",
    "#fi = train.Price.mean()\n",
    "#ybarra = train.Price.mean()\n",
    "#L1 = []\n",
    "#L2 = []\n",
    "#i=0\n",
    "#while i<=n:\n",
    "#    L1.append(((train.Price[i]-fi)**2))\n",
    "#    L2.append(((train.Price[i]-ybarra)**2))\n",
    "#    x1 = sum(L1)\n",
    "#    x2 = sum(L2)\n",
    "#    i=i+1\n",
    "#x = x1/x2\n",
    "#R2 = 1-x\n",
    "#print(R2)"
   ]
  },
  {
   "cell_type": "markdown",
   "metadata": {},
   "source": [
    "## MODELO DOS K VIZINHOS MAIS PRÓXIMOS (K-Nearest Neighbors Regression)"
   ]
  },
  {
   "cell_type": "markdown",
   "metadata": {},
   "source": [
    "### A seguir deve ser feito um segundo modelo de predição, no caso o chamado K-Nearest Neighbors Regression, que consiste basicamente em prever o valor do carro baseado em seus vizinhos mais próximos e seus atributos (exceto preço, já que este é usado para o cálculo da média). Isto é, este modelo se fundamenta em descobrir o valor do preço através de uma média dos preços de seus k vizinhos mais próximos. Para determinar quais são os vizinhos mais próximos, um cáclulo é feito e os vizinhos são selecionados."
   ]
  },
  {
   "cell_type": "code",
   "execution_count": 27,
   "metadata": {
    "collapsed": false
   },
   "outputs": [
    {
     "name": "stdout",
     "output_type": "stream",
     "text": [
      "0.0972934724925\n"
     ]
    }
   ],
   "source": [
    "x = np.array(data.drop(['Price'],1))\n",
    "y = np.array(data['Price'])\n",
    "\n",
    "x_train, x_test,y_train, y_test=cross_validation.train_test_split(x,y,test_size=0.5)\n",
    "clf=neighbors.KNeighborsClassifier()\n",
    "clf.fit(x_train, y_train)\n",
    "accuracy=clf.score(x_test, y_test)\n",
    "print (accuracy)"
   ]
  },
  {
   "cell_type": "markdown",
   "metadata": {},
   "source": [
    "### Na célula acima foi determinado o alvo à predição: \"Price\". A base train (25%) e test(75%) foi separada. Além disso uma nova ferramenta foi disposta para verificar a veracidade dos dados: \"accuracy\". Apesar do \"accuracy estar próximo a 10%, o valor (\"Price\") deste modelo de regressão não ficou muito distante do valor (\"Price\") real."
   ]
  },
  {
   "cell_type": "code",
   "execution_count": 28,
   "metadata": {
    "collapsed": false
   },
   "outputs": [
    {
     "name": "stdout",
     "output_type": "stream",
     "text": [
      "Digite o ano (2006 até 2017): 2010\n",
      "Digite a potencia (150 até 707): 300\n",
      "Digite a quantidade de cilindros (3 até 12): 6\n",
      "[40650]\n"
     ]
    }
   ],
   "source": [
    "ano = input('Digite o ano (2006 até 2017): ')\n",
    "potencia = input(\"Digite a potencia (150 até 707): \")\n",
    "cilindros = input(\"Digite a quantidade de cilindros (3 até 12): \")\n",
    "\n",
    "ee=np.array([ano,potencia,cilindros])\n",
    "ee=ee.reshape(1,-1)\n",
    "prediction = clf.predict(ee)\n",
    "print(prediction)"
   ]
  },
  {
   "cell_type": "markdown",
   "metadata": {},
   "source": [
    "### Há aqui uma interação entre o usuário e o programa. Sendo que, através da célula acima e do modelo de ressão dos K-vizinhos mais próximos, o usuário é capaz de prever o preço de um carro digitando seu ano, sua potência e sua quantidade de cilindros."
   ]
  },
  {
   "cell_type": "markdown",
   "metadata": {},
   "source": [
    "### Coeficiente de determinação (R2) e Raiz do erro médio quadrático (RMS)"
   ]
  },
  {
   "cell_type": "code",
   "execution_count": null,
   "metadata": {
    "collapsed": true
   },
   "outputs": [],
   "source": []
  },
  {
   "cell_type": "markdown",
   "metadata": {},
   "source": [
    "## MODELO DE REGRESSÃO LINEAR (Multiple Linear Regression)"
   ]
  },
  {
   "cell_type": "markdown",
   "metadata": {},
   "source": [
    "## O próximo modelo preditivo a ser realizado para análise dos preços de carro é pelo método de regressão linear, este se baseia.... "
   ]
  },
  {
   "cell_type": "code",
   "execution_count": 29,
   "metadata": {
    "collapsed": true
   },
   "outputs": [],
   "source": [
    "atributos = [ \"Potência\",\"Cilindros\"]\n",
    "objetivo = ['Price']"
   ]
  },
  {
   "cell_type": "code",
   "execution_count": 30,
   "metadata": {
    "collapsed": true
   },
   "outputs": [],
   "source": [
    "def ridge_regression(train, atributos, alpha):\n",
    "    ridgereg = Ridge(alpha=alpha,normalize=True)\n",
    "    ridgereg.fit(train[atributos],train['Price'])\n",
    "    y_pred = ridgereg.predict(train[atributos])\n",
    "    return(y_pred)"
   ]
  },
  {
   "cell_type": "code",
   "execution_count": 31,
   "metadata": {
    "collapsed": false
   },
   "outputs": [
    {
     "data": {
      "image/png": "[encoded data removed]",
      "text/plain": [
       "<matplotlib.figure.Figure at 0x1e33ddaeeb8>"
      ]
     },
     "metadata": {},
     "output_type": "display_data"
    }
   ],
   "source": [
    "ridge = ridge_regression(train, atributos, 1e-20)\n",
    "plt.plot(train['Price'],ridge,'.', color=\"red\")\n",
    "plt.axis([0, 140000, 0, 140000])\n",
    "plt.xlabel(\"Price verdadeiro\")\n",
    "plt.ylabel(\"Price previsto pelo programa\")\n",
    "plt.show()"
   ]
  },
  {
   "cell_type": "code",
   "execution_count": 32,
   "metadata": {
    "collapsed": false,
    "scrolled": true
   },
   "outputs": [],
   "source": [
    "#from IPython.display import HTML, display\n",
    "#import statsmodels.api as sm\n",
    "#from statsmodels.formula.api import ols\n",
    "#Y = train['Price']\n",
    "#minhascolunas=['Ano','Potência','Cilindros']\n",
    "#X=train[['Ano','Potência','Cilindros']]\n",
    "#X=sm.add_constant(X)\n",
    "#model = sm.OLS(Y,X)\n",
    "#Tabelareg = model.fit()\n",
    "#Tabelareg_summary = Tabelareg.summary()\n",
    "#HTML(\n",
    "#(Tabelareg_summary\n",
    "#    .as_html()\n",
    "#    .replace('<th>  Adj. R-squared:    </th>', '<th style=\"background-color:#aec7e8;\"> Adj. R-squared: </th>')\n",
    "#    .replace('<th>coef</th>', '<th style=\"background-color:#ffbb78;\">coef</th>')\n",
    "#    .replace('<th>std err</th>', '<th style=\"background-color:#c7e9c0;\">std err</th>')\n",
    "#    .replace('<th>P>|t|</th>', '<th style=\"background-color:#bcbddc;\">P>|t|</th>')\n",
    "#    .replace('<th>[0.025</th>    <th>0.975]</th>', '<th style=\"background-color:#ff9896;\">[0.025</th>    <th style=\"background-color:#ff9896;\">0.975]</th>'))\n",
    "#)"
   ]
  },
  {
   "cell_type": "code",
   "execution_count": 11,
   "metadata": {
    "collapsed": false,
    "scrolled": true
   },
   "outputs": [],
   "source": [
    "#import seaborn as sns\n",
    "#%matplotlib inline\n",
    "#h = sns.pairplot(train,x_vars=minhascolunas,y_vars=\"Price\",size=7,aspect=0.7,kind = 'reg')\n",
    "#plt.show()"
   ]
  },
  {
   "cell_type": "code",
   "execution_count": null,
   "metadata": {
    "collapsed": false
   },
   "outputs": [],
   "source": [
    "#PE=[]\n",
    "#PR=[]\n",
    "#for a in range(len(train)):\n",
    "#        PE.append(Tabelareg.params.const+(Tabelareg.params.Ano*(train.Ano[a]))+(Tabelareg.params.Potência*(train.Potência[a]))+Tabelareg.params.Cilindros*(train.Cilindros[a]))\n",
    "#        PR.append((train.Price[a]))\n",
    "#scatter_plotscatter_  = plt.scatter(PE,PR,color=\"red\",alpha=0.15)\n",
    "#plt.title(\"Avaliação de Preço Estimado x Preço Real\")\n",
    "#plt.xlabel(\"Preço Estimado ($)\")\n",
    "#plt.ylabel(\"Preço Real ($)\")\n",
    "#plt.plot()\n",
    "#plt.show()"
   ]
  },
  {
   "cell_type": "markdown",
   "metadata": {},
   "source": [
    "### Coeficiente de determinação (R2) e Raiz do erro médio quadrático (RMS)"
   ]
  },
  {
   "cell_type": "code",
   "execution_count": null,
   "metadata": {
    "collapsed": true
   },
   "outputs": [],
   "source": []
  },
  {
   "cell_type": "markdown",
   "metadata": {},
   "source": [
    "## MODELO DE ÁRVORES DE REGRESSÃO (Decision Tree Regression)"
   ]
  },
  {
   "cell_type": "markdown",
   "metadata": {},
   "source": [
    "### O último modelo de predição necessário é conhecido por Decision Tree Regression, ou seja Árvores de Regressão. Nesse caso as árvores de decisão são usadas para ajustar uma curva senoidal com observação adicional de variáveis..."
   ]
  },
  {
   "cell_type": "code",
   "execution_count": null,
   "metadata": {
    "collapsed": false
   },
   "outputs": [],
   "source": [
    "from sklearn import tree\n",
    "model = tree.DecisionTreeRegressor()\n",
    "model.fit(X, Y)\n",
    "model.score(X, Y)\n",
    "ano = input('Digite o ano (2006 até 2017): ')\n",
    "potencia = input(\"Digite a potencia (150 até 707): \")\n",
    "cilindros = input(\"Digite a quantidade de cilindros (3 até 12): \")\n",
    "ee=np.array([ano,potencia,cilindros,(train.Price.mean())])\n",
    "ee=ee.reshape(1,-1)\n",
    "predicted = model.predict(ee)\n",
    "print(predicted)"
   ]
  },
  {
   "cell_type": "markdown",
   "metadata": {},
   "source": []
  }
 ],
 "metadata": {
  "anaconda-cloud": {},
  "kernelspec": {
   "display_name": "Python 3",
   "language": "python",
   "name": "python3"
  },
  "language_info": {
   "codemirror_mode": {
    "name": "ipython",
    "version": 3
   },
   "file_extension": ".py",
   "mimetype": "text/x-python",
   "name": "python",
   "nbconvert_exporter": "python",
   "pygments_lexer": "ipython3",
   "version": "3.6.0"
  }
 },
 "nbformat": 4,
 "nbformat_minor": 1
}
