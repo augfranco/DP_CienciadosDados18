{
 "cells": [
  {
   "cell_type": "markdown",
   "metadata": {},
   "source": [
    "___\n",
    "# Ciência dos Dados - PROJETO 1"
   ]
  },
  {
   "cell_type": "markdown",
   "metadata": {},
   "source": [
    "## Augusto Franco De Paula\n",
    "___"
   ]
  },
  {
   "cell_type": "markdown",
   "metadata": {},
   "source": [
    "## Análise da evolução da desigualdade social pautada no trabalho infantil."
   ]
  },
  {
   "cell_type": "markdown",
   "metadata": {},
   "source": [
    "## Introdução\n",
    "O objetivo deste trabalho é analisar a evolução da desigualdade social pautada no trabalho infantil e seu viés populacional através de duas bases de dados (2011 e 2015). Há alguma relação entre o trabalho infantil, quantidade de moradores em sua residência, estudo e raça? Quais as suas causas?"
   ]
  },
  {
   "cell_type": "markdown",
   "metadata": {},
   "source": [
    "___\n",
    "## Filtros da base de dados"
   ]
  },
  {
   "cell_type": "code",
   "execution_count": 1,
   "metadata": {
    "collapsed": true
   },
   "outputs": [],
   "source": [
    "%matplotlib inline\n",
    "import pandas as pd\n",
    "import matplotlib.pyplot as plt\n",
    "import numpy as np\n",
    "import os"
   ]
  },
  {
   "cell_type": "code",
   "execution_count": 2,
   "metadata": {
    "collapsed": false
   },
   "outputs": [],
   "source": [
    "base11 = pd.read_csv('PES2011.csv', sep=\",\")\n",
    "base15 = pd.read_csv('PES2015.csv', sep=\",\")"
   ]
  },
  {
   "cell_type": "code",
   "execution_count": 3,
   "metadata": {
    "collapsed": false
   },
   "outputs": [],
   "source": [
    "novabase11 = base11.loc[:,['V0701','V0404', 'V0602', 'V0301']]\n",
    "novabase15 = base15.loc[:,['V0701','V0404', 'V0602', 'V0301']]"
   ]
  },
  {
   "cell_type": "code",
   "execution_count": 4,
   "metadata": {
    "collapsed": false
   },
   "outputs": [
    {
     "data": {
      "text/plain": [
       "V0701    float64\n",
       "V0404      int64\n",
       "V0602      int64\n",
       "V0301      int64\n",
       "dtype: object"
      ]
     },
     "execution_count": 4,
     "metadata": {},
     "output_type": "execute_result"
    }
   ],
   "source": [
    "novabase11.dtypes"
   ]
  },
  {
   "cell_type": "code",
   "execution_count": 5,
   "metadata": {
    "collapsed": false
   },
   "outputs": [],
   "source": [
    "#2011\n",
    "novabase11.V0701 = novabase11.V0701.astype('category')\n",
    "novabase11.V0404 = novabase11.V0404.astype('category')\n",
    "novabase11.V0602 = novabase11.V0602.astype('category')\n",
    "novabase11.V0301 = novabase11.V0301.astype('float')\n",
    "\n",
    "#2015\n",
    "novabase15.V0701 = novabase15.V0701.astype('category')\n",
    "novabase15.V0404 = novabase15.V0404.astype('category')\n",
    "novabase15.V0602 = novabase15.V0602.astype('category')\n",
    "novabase15.V0301 = novabase15.V0301.astype('float')"
   ]
  },
  {
   "cell_type": "markdown",
   "metadata": {},
   "source": [
    "Variáveis qualitativas:"
   ]
  },
  {
   "cell_type": "code",
   "execution_count": 6,
   "metadata": {
    "collapsed": true
   },
   "outputs": [],
   "source": [
    "#2011\n",
    "novabase11=novabase11.rename(columns={'V0701':'Trabalhou'})\n",
    "novabase11=novabase11.rename(columns={'V0602':'Escola'})\n",
    "\n",
    "#2015\n",
    "novabase15=novabase15.rename(columns={'V0701':'Trabalhou'})\n",
    "novabase15=novabase15.rename(columns={'V0602':'Escola'})"
   ]
  },
  {
   "cell_type": "code",
   "execution_count": 7,
   "metadata": {
    "collapsed": false
   },
   "outputs": [],
   "source": [
    "#2011\n",
    "novabase11.Trabalhou.cat.categories = ('Sim', 'Nao')\n",
    "novabase11.Escola.cat.categories = ('Nao','Sim')\n",
    "\n",
    "#2015\n",
    "novabase15.Trabalhou.cat.categories = ('Sim', 'Nao')\n",
    "novabase15.Escola.cat.categories = ('Nao','Sim')"
   ]
  },
  {
   "cell_type": "code",
   "execution_count": 8,
   "metadata": {
    "collapsed": false
   },
   "outputs": [],
   "source": [
    "#2011\n",
    "novabase11.Trabalhou.cat.categories = ('Sim', 'Nao')\n",
    "novabase11.Escola.cat.categories = ('Nao', 'Sim')\n",
    "novabase11.loc[(novabase11.V0404 == 0), 'Raça'] = 'Indígena'\n",
    "novabase11.loc[(novabase11.V0404 == 2), 'Raça'] = 'Branca'\n",
    "novabase11.loc[(novabase11.V0404 == 4), 'Raça'] = 'Preta'\n",
    "novabase11.loc[(novabase11.V0404 == 6), 'Raça'] = 'Amarela'\n",
    "novabase11.loc[(novabase11.V0404 == 8), 'Raça'] = 'Parda'\n",
    "novabase11.loc[(novabase11.V0404 == 9), 'Raça'] = 'Sem declaração'\n",
    "\n",
    "#2015\n",
    "novabase15.Trabalhou.cat.categories = ('Sim', 'Nao')\n",
    "novabase15.Escola.cat.categories = ('Nao', 'Sim')\n",
    "novabase15.loc[(novabase15.V0404 == 0), 'Raça'] = 'Indígena'\n",
    "novabase15.loc[(novabase15.V0404 == 2), 'Raça'] = 'Branca'\n",
    "novabase15.loc[(novabase15.V0404 == 4), 'Raça'] = 'Preta'\n",
    "novabase15.loc[(novabase15.V0404 == 6), 'Raça'] = 'Amarela'\n",
    "novabase15.loc[(novabase15.V0404 == 8), 'Raça'] = 'Parda'\n",
    "novabase15.loc[(novabase15.V0404 == 9), 'Raça'] = 'Sem declaração'"
   ]
  },
  {
   "cell_type": "markdown",
   "metadata": {},
   "source": [
    "Variável quantitativa:"
   ]
  },
  {
   "cell_type": "code",
   "execution_count": 9,
   "metadata": {
    "collapsed": false
   },
   "outputs": [],
   "source": [
    "#2011\n",
    "novabase11.loc[(novabase11.V0301>=1) & (novabase11.V0301<=3),\"Moradores\"]=\"1 a 3\"\n",
    "novabase11.loc[(novabase11.V0301>=4) & (novabase11.V0301<=6),\"Moradores\"]=\"4 a 6\"\n",
    "novabase11.loc[(novabase11.V0301>=7) & (novabase11.V0301<=9),\"Moradores\"]=\"7 a 9\"\n",
    "novabase11.loc[(novabase11.V0301>=10),\"Moradores\"]=\"Mais de 10\"\n",
    "\n",
    "#2015\n",
    "novabase15.loc[(novabase15.V0301>=1) & (novabase15.V0301<=3),\"Moradores\"]=\"1 a 3\"\n",
    "novabase15.loc[(novabase15.V0301>=4) & (novabase15.V0301<=6),\"Moradores\"]=\"4 a 6\"\n",
    "novabase15.loc[(novabase15.V0301>=7) & (novabase15.V0301<=9),\"Moradores\"]=\"7 a 9\"\n",
    "novabase15.loc[(novabase15.V0301>=10),\"Moradores\"]=\"Mais de 10\""
   ]
  },
  {
   "cell_type": "markdown",
   "metadata": {},
   "source": [
    "### Filtro"
   ]
  },
  {
   "cell_type": "code",
   "execution_count": 10,
   "metadata": {
    "collapsed": false
   },
   "outputs": [],
   "source": [
    "#2011\n",
    "t11 = novabase11[novabase11.Trabalhou=='Sim']\n",
    "\n",
    "#2015\n",
    "t15 = novabase15[novabase15.Trabalhou=='Sim']"
   ]
  },
  {
   "cell_type": "code",
   "execution_count": 11,
   "metadata": {
    "collapsed": false
   },
   "outputs": [
    {
     "data": {
      "text/plain": [
       "Nao    27912\n",
       "Sim      186\n",
       "Name: Trabalhou, dtype: int64"
      ]
     },
     "execution_count": 11,
     "metadata": {},
     "output_type": "execute_result"
    }
   ],
   "source": [
    "#2011\n",
    "novabase11.Trabalhou.value_counts()"
   ]
  },
  {
   "cell_type": "markdown",
   "metadata": {},
   "source": [
    "#### 0.6% das crianças brasileiras trabalhavam em 2011"
   ]
  },
  {
   "cell_type": "code",
   "execution_count": 12,
   "metadata": {
    "collapsed": false
   },
   "outputs": [
    {
     "data": {
      "text/plain": [
       "Nao    25299\n",
       "Sim       69\n",
       "Name: Trabalhou, dtype: int64"
      ]
     },
     "execution_count": 12,
     "metadata": {},
     "output_type": "execute_result"
    }
   ],
   "source": [
    "#2015\n",
    "novabase15.Trabalhou.value_counts()"
   ]
  },
  {
   "cell_type": "markdown",
   "metadata": {},
   "source": [
    "#### 0.2% das crianças brasileiras trabalhavam em 2015"
   ]
  },
  {
   "cell_type": "markdown",
   "metadata": {},
   "source": [
    "## Ainda utilizando nossa base de dados completa e sem filtrar, vamos analisar a relação entre as crianças que trabalham e quantos moradores há em suas casas."
   ]
  },
  {
   "cell_type": "code",
   "execution_count": 13,
   "metadata": {
    "collapsed": false,
    "scrolled": false
   },
   "outputs": [
    {
     "data": {
      "image/png": "[encoded data removed]",
      "text/plain": [
       "<matplotlib.figure.Figure at 0x1f40041eac8>"
      ]
     },
     "metadata": {},
     "output_type": "display_data"
    },
    {
     "data": {
      "text/plain": [
       "<matplotlib.figure.Figure at 0x1f4004163c8>"
      ]
     },
     "metadata": {},
     "output_type": "display_data"
    },
    {
     "data": {
      "image/png": "[encoded data removed]",
      "text/plain": [
       "<matplotlib.figure.Figure at 0x1f43a590cf8>"
      ]
     },
     "metadata": {},
     "output_type": "display_data"
    },
    {
     "data": {
      "text/plain": [
       "<matplotlib.figure.Figure at 0x1f475414e48>"
      ]
     },
     "metadata": {},
     "output_type": "display_data"
    }
   ],
   "source": [
    "ct1 = pd.crosstab(novabase11.Trabalhou, novabase11.Moradores, normalize = 'index')*100\n",
    "ct1.plot(kind='bar', stacked = True, color=('green','yellow','red','black'))\n",
    "plt.ylabel('Frequência Absoluta')\n",
    "plt.title('Numero de moradores x Trabalho infantil (2011)')\n",
    "fig = plt.figure(figsize=(16,16))\n",
    "\n",
    "\n",
    "ct2 = pd.crosstab(novabase15.Trabalhou, novabase15.Moradores, normalize = 'index')*100\n",
    "ct2.plot(kind='bar', stacked = True, color=('green','yellow','red','black'))\n",
    "plt.title('Numero de moradores x Trabalho infantil (2015)')\n",
    "plt.ylabel('Frequência Absoluta')\n",
    "fig = plt.figure(figsize=(16,16))"
   ]
  },
  {
   "cell_type": "markdown",
   "metadata": {},
   "source": [
    "### Análise e Resultados 1"
   ]
  },
  {
   "cell_type": "markdown",
   "metadata": {},
   "source": [
    "#### Percebe-se que, apesar da quantidade bruta do número de crianças que praticavam o trabalho infantil ter decrescido de 2011 à 2015, houve uma mudança da frequência absoluta dentre as crianças que trabalhavam, enquanto a frequência absoluta dentre as crianças que não trabalhavam continuou praticamente inalterado . Em 2011 nota-se que cerca de 23% das crianças que trabalhavam moravam em casas com ate 3 moradores. Já em 2015, a frequência absoluta de crianças que trabalhavam e moravam em casa com até três moradores subiu para 41%.\n",
    "\n",
    "#### Os dois gráficos de 2015 são praticamente iguais. Isto é, as características domiciliares de lares que têm trabalho infantil são muito similares às dos lares que não têm trabalho infantil. Em suma, NÃO há uma relação direta entre crianças que trabalham com a quantidade de moradores em suas residências."
   ]
  },
  {
   "cell_type": "markdown",
   "metadata": {},
   "source": [
    "## Agora vamos utilizar nossa base de dados filtrada para descobrir, dentre as crianças que trabalham, a relaçâo de número de moradores e estudo destas crianças."
   ]
  },
  {
   "cell_type": "code",
   "execution_count": 14,
   "metadata": {
    "collapsed": false
   },
   "outputs": [
    {
     "data": {
      "image/png": "[encoded data removed]",
      "text/plain": [
       "<matplotlib.figure.Figure at 0x1f40041e4a8>"
      ]
     },
     "metadata": {},
     "output_type": "display_data"
    },
    {
     "data": {
      "text/plain": [
       "<matplotlib.figure.Figure at 0x1f43a6bc208>"
      ]
     },
     "metadata": {},
     "output_type": "display_data"
    },
    {
     "data": {
      "image/png": "[encoded data removed]",
      "text/plain": [
       "<matplotlib.figure.Figure at 0x1f400303d68>"
      ]
     },
     "metadata": {},
     "output_type": "display_data"
    },
    {
     "data": {
      "text/plain": [
       "<matplotlib.figure.Figure at 0x1f4000829e8>"
      ]
     },
     "metadata": {},
     "output_type": "display_data"
    }
   ],
   "source": [
    "ct3 = pd.crosstab(t11.Moradores, t11.Escola, normalize = 'index')*100\n",
    "ct3.plot(kind='bar', stacked = True, color=('orange','green'))\n",
    "plt.title('Numero de moradores x Estudo (2011)')\n",
    "plt.ylabel('Frequência Absoluta')\n",
    "fig = plt.figure(figsize=(16,16))\n",
    "\n",
    "ct4 = pd.crosstab(t15.Moradores, t15.Escola, normalize = 'index')*100\n",
    "ct4.plot(kind='bar', stacked = True, color=('orange','green'))\n",
    "plt.title('Numero de moradores x Estudo (2015)')\n",
    "plt.ylabel('Frequência Absoluta')\n",
    "fig = plt.figure(figsize=(16,16))"
   ]
  },
  {
   "cell_type": "markdown",
   "metadata": {},
   "source": [
    "### Análise e Resultados 2"
   ]
  },
  {
   "cell_type": "markdown",
   "metadata": {},
   "source": [
    "#### Em 2011, as frequências relativas de crianças que trabalhavam e estudavam era praticamente iguais para casas de: 1 a 3; 4 a 6 e 7 a 9 moradores.Isto significa que cerca de 95% das crianças que trabalham não estudam para estes 3 casos. Porém, para domicílios com mais de 10 pessoas, nota-se que 100% das crianças que residem em um lar com mais de 10 moradores praticam o trabalho infantil.\n",
    "\n",
    "#### Já em 2015 quase 100% do total de crianças que trabalham não estudam. Apenas cerca de 4% de crianças que residem em domicílios de 4 a 6 moradores ainda estudam.\n",
    "\n",
    "#### Outro fato notável é que crianças que praticavam trabalho infantil e que residiam em uma casa de 10 moradores foi extinto dos gráficos. Isso pode ser explicado pela diminuição do número bruto de crianças que praticavam o trabalho infantil (um decréscimo bruto de 117 crianças)."
   ]
  },
  {
   "cell_type": "markdown",
   "metadata": {},
   "source": [
    "## Ainda utilizando a base de dados filtrada para analisar a quantidade de moradores, dentre as crianças que trabalham, em relação às raças. "
   ]
  },
  {
   "cell_type": "code",
   "execution_count": 19,
   "metadata": {
    "collapsed": false
   },
   "outputs": [
    {
     "data": {
      "image/png": "[encoded data removed]",
      "text/plain": [
       "<matplotlib.figure.Figure at 0x1f4012d9710>"
      ]
     },
     "metadata": {},
     "output_type": "display_data"
    },
    {
     "data": {
      "text/plain": [
       "<matplotlib.figure.Figure at 0x1f40125d630>"
      ]
     },
     "metadata": {},
     "output_type": "display_data"
    },
    {
     "data": {
      "image/png": "[encoded data removed]",
      "text/plain": [
       "<matplotlib.figure.Figure at 0x1f40122c400>"
      ]
     },
     "metadata": {},
     "output_type": "display_data"
    },
    {
     "data": {
      "text/plain": [
       "<matplotlib.figure.Figure at 0x1f401045f98>"
      ]
     },
     "metadata": {},
     "output_type": "display_data"
    }
   ],
   "source": [
    "ct5 = pd.crosstab(t11.Raça, t11.Moradores, normalize = 'index')*100\n",
    "ct5.plot(kind='bar', stacked = True, color=('grey','black','orange', 'red'))\n",
    "plt.title('Numero de moradores x Raça (2011)')\n",
    "plt.ylabel('Frequência Absoluta')\n",
    "fig = plt.figure(figsize=(16,16))\n",
    "\n",
    "ct6 = pd.crosstab(t15.Raça, t15.Moradores, normalize = 'index')*100\n",
    "ct6.plot(kind='bar', stacked = True, color=('grey','black','orange'))\n",
    "plt.title('Numero de moradores x Raça (2015)')\n",
    "plt.ylabel('Frequência Absoluta')\n",
    "fig = plt.figure(figsize=(16,16))"
   ]
  },
  {
   "cell_type": "markdown",
   "metadata": {},
   "source": [
    "### Análise e Resultados 3"
   ]
  },
  {
   "cell_type": "markdown",
   "metadata": {},
   "source": [
    "#### Apesar do decréscimo bruto do trabalho infantil, percebe-se que as frequências absolutas de casas com 1 a 3 moradores aumentaram em todas as raças, exceto na indígena. Isso pode ser explicado pelo fato de que, de 2011 para 2015, apenas as crianças que moravam em tribos ou famílias grandes (7 a 9 moradores) continuaram trabalhando, enquanto famílias indígenas mais reduzidas tivaram mais chances de minimizar o trabalho de seus filhos."
   ]
  },
  {
   "cell_type": "markdown",
   "metadata": {},
   "source": [
    "___\n",
    "## Conclusão "
   ]
  },
  {
   "cell_type": "markdown",
   "metadata": {
    "collapsed": true
   },
   "source": [
    "### Houve uma diminuição da quantidade bruta do trabalho infantil, porém as frequências absolutas do número de crianças que estudam não acompanharam esse \"desenvolvimento\" anti-trabalho-infantil. Isto é contra-intuitivo pois, por mais que o trabalho infantil tenha diminuido, as poucas (69) crianças qua ainda trabalham em 2015 têm um acesso à escola de cerca de 4%, que por sua vez residem com famílias de 4 a 6 moradores.\n",
    "\n",
    "### Analisando os gráficos \"Numero de moradores x Raça\" de 2011 e 2015, obtemos outra resposta inesperada. Como houve uma queda no numero bruto do trabalho infantil, esperamos que as frequências absolutas dos números de moradores não caia de 4 a 6 para 1 a 3, por exemplo. Por que esta resposta já é inesperada? Pelo fato de que, para sustentar uma familia de 4 a 6 moradores é necessário mais pessoas trabalhando (inclusive as crianças). Quando o número de moradores por domicílio é reduzido, menos capital será necessário para sustentar esta mesma família, o que diminui as chances de trabalho infantil de uma criança desta família reduzida (1 a 3). Uma observação para a população indígena, que é uma excessão desta explicação anterior e que já foi discutida em \"Análise e Resultados 3\""
   ]
  },
  {
   "cell_type": "code",
   "execution_count": null,
   "metadata": {
    "collapsed": true
   },
   "outputs": [],
   "source": []
  }
 ],
 "metadata": {
  "anaconda-cloud": {},
  "kernelspec": {
   "display_name": "Python 3",
   "language": "python",
   "name": "python3"
  },
  "language_info": {
   "codemirror_mode": {
    "name": "ipython",
    "version": 3
   },
   "file_extension": ".py",
   "mimetype": "text/x-python",
   "name": "python",
   "nbconvert_exporter": "python",
   "pygments_lexer": "ipython3",
   "version": "3.6.0"
  }
 },
 "nbformat": 4,
 "nbformat_minor": 1
}
