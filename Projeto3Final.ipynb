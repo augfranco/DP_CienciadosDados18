{
 "cells": [
  {
   "cell_type": "markdown",
   "metadata": {},
   "source": [
    "___\n",
    "# Ciência dos Dados - PROJETO 3 - INSPER"
   ]
  },
  {
   "cell_type": "markdown",
   "metadata": {},
   "source": [
    "___\n",
    "## Nome 1 - Augusto Franco de Paula\n",
    "\n",
    "## Nome 2 - Gabriel Heusi Pereira Bueno de Camargo\n",
    "\n",
    "## Nome 3 - Pedro Henrique Carvalho Daher\n",
    "\n",
    "___"
   ]
  },
  {
   "cell_type": "markdown",
   "metadata": {},
   "source": [
    "___\n",
    "\n",
    "## INTRODUÇÃO"
   ]
  },
  {
   "cell_type": "markdown",
   "metadata": {},
   "source": [
    "        A partir de um interesse sobre carros, o grupo optou por fazer um modelo de previsão dos preços de carros e ainda analisar aqueles considerados \"Overpriced\", ou seja acima do preço considerado padrão para determinado modelo. \n",
    "        A base de dados utilizada para o estudo é de 2017 e avalia apenas carros americanos, dessa forma deve-se explorar esta afim de possibilitar tal modelo de predição. Para isso será importante avaliar quais as variáveis de maior influência sobre o preço de um carro para que ao fim haja uma comparação entre o preço real do carro e seu preço esperado a partir das variáveis que o definem. Por fim a análise de carros acima do preço servirá como dado de eficiência do estudo \n",
    "        Dessa forma baseou-se em artigos cientificos e estudos que avaliam os modelos de distribuicão destes preços, entre eles estão: "
   ]
  },
  {
   "cell_type": "markdown",
   "metadata": {},
   "source": [
    "___\n",
    "## MINERANDO DADOS e CARACTERÍSTICAS DO DATASET"
   ]
  },
  {
   "cell_type": "code",
   "execution_count": 56,
   "metadata": {
    "collapsed": false
   },
   "outputs": [],
   "source": [
    "import pandas as pd\n",
    "import matplotlib.pyplot as plt\n",
    "from sklearn.utils import shuffle\n",
    "import os\n",
    "import math\n",
    "from sys import stdin\n",
    "from numpy import arange\n",
    "import numpy as np\n",
    "import seaborn as sns\n",
    "from sklearn import preprocessing, cross_validation, neighbors"
   ]
  },
  {
   "cell_type": "code",
   "execution_count": 57,
   "metadata": {
    "collapsed": false
   },
   "outputs": [
    {
     "name": "stdout",
     "output_type": "stream",
     "text": [
      "Esperamos trabalhar no diretório\n",
      "C:\\Users\\Augusto\\Desktop\\DP Ciência dos Dados\\Projeto3\n"
     ]
    }
   ],
   "source": [
    "print('Esperamos trabalhar no diretório')\n",
    "print(os.getcwd())\n",
    "data = pd.read_csv('data.csv')\n"
   ]
  },
  {
   "cell_type": "markdown",
   "metadata": {},
   "source": [
    "### BASE DE DADOS"
   ]
  },
  {
   "cell_type": "code",
   "execution_count": 58,
   "metadata": {
    "collapsed": false
   },
   "outputs": [
    {
     "data": {
      "text/html": [
       "<div>\n",
       "<table border=\"1\" class=\"dataframe\">\n",
       "  <thead>\n",
       "    <tr style=\"text-align: right;\">\n",
       "      <th></th>\n",
       "      <th>Make</th>\n",
       "      <th>Model</th>\n",
       "      <th>Year</th>\n",
       "      <th>Engine Fuel Type</th>\n",
       "      <th>Engine HP</th>\n",
       "      <th>Engine Cylinders</th>\n",
       "      <th>Transmission Type</th>\n",
       "      <th>Driven_Wheels</th>\n",
       "      <th>Number of Doors</th>\n",
       "      <th>Market Category</th>\n",
       "      <th>Vehicle Size</th>\n",
       "      <th>Vehicle Style</th>\n",
       "      <th>highway MPG</th>\n",
       "      <th>city mpg</th>\n",
       "      <th>Popularity</th>\n",
       "      <th>MSRP</th>\n",
       "    </tr>\n",
       "  </thead>\n",
       "  <tbody>\n",
       "    <tr>\n",
       "      <th>5311</th>\n",
       "      <td>Mercedes-Benz</td>\n",
       "      <td>GLE-Class Coupe</td>\n",
       "      <td>2016</td>\n",
       "      <td>premium unleaded (required)</td>\n",
       "      <td>577.0</td>\n",
       "      <td>8.0</td>\n",
       "      <td>AUTOMATIC</td>\n",
       "      <td>all wheel drive</td>\n",
       "      <td>4.0</td>\n",
       "      <td>Crossover,Factory Tuner,Luxury,High-Performance</td>\n",
       "      <td>Midsize</td>\n",
       "      <td>4dr SUV</td>\n",
       "      <td>18</td>\n",
       "      <td>14</td>\n",
       "      <td>617</td>\n",
       "      <td>109300</td>\n",
       "    </tr>\n",
       "    <tr>\n",
       "      <th>7241</th>\n",
       "      <td>Dodge</td>\n",
       "      <td>Nitro</td>\n",
       "      <td>2010</td>\n",
       "      <td>regular unleaded</td>\n",
       "      <td>210.0</td>\n",
       "      <td>6.0</td>\n",
       "      <td>AUTOMATIC</td>\n",
       "      <td>rear wheel drive</td>\n",
       "      <td>4.0</td>\n",
       "      <td>Crossover</td>\n",
       "      <td>Midsize</td>\n",
       "      <td>4dr SUV</td>\n",
       "      <td>22</td>\n",
       "      <td>16</td>\n",
       "      <td>1851</td>\n",
       "      <td>23235</td>\n",
       "    </tr>\n",
       "    <tr>\n",
       "      <th>201</th>\n",
       "      <td>Mitsubishi</td>\n",
       "      <td>3000GT</td>\n",
       "      <td>1999</td>\n",
       "      <td>regular unleaded</td>\n",
       "      <td>320.0</td>\n",
       "      <td>6.0</td>\n",
       "      <td>MANUAL</td>\n",
       "      <td>all wheel drive</td>\n",
       "      <td>2.0</td>\n",
       "      <td>Hatchback,Factory Tuner,Performance</td>\n",
       "      <td>Compact</td>\n",
       "      <td>2dr Hatchback</td>\n",
       "      <td>22</td>\n",
       "      <td>16</td>\n",
       "      <td>436</td>\n",
       "      <td>7600</td>\n",
       "    </tr>\n",
       "    <tr>\n",
       "      <th>4733</th>\n",
       "      <td>Ford</td>\n",
       "      <td>Five Hundred</td>\n",
       "      <td>2006</td>\n",
       "      <td>regular unleaded</td>\n",
       "      <td>203.0</td>\n",
       "      <td>6.0</td>\n",
       "      <td>AUTOMATIC</td>\n",
       "      <td>all wheel drive</td>\n",
       "      <td>4.0</td>\n",
       "      <td>NaN</td>\n",
       "      <td>Large</td>\n",
       "      <td>Sedan</td>\n",
       "      <td>23</td>\n",
       "      <td>17</td>\n",
       "      <td>5657</td>\n",
       "      <td>28230</td>\n",
       "    </tr>\n",
       "    <tr>\n",
       "      <th>8778</th>\n",
       "      <td>Chevrolet</td>\n",
       "      <td>S-10</td>\n",
       "      <td>2003</td>\n",
       "      <td>flex-fuel (unleaded/E85)</td>\n",
       "      <td>120.0</td>\n",
       "      <td>4.0</td>\n",
       "      <td>MANUAL</td>\n",
       "      <td>rear wheel drive</td>\n",
       "      <td>2.0</td>\n",
       "      <td>Flex Fuel</td>\n",
       "      <td>Compact</td>\n",
       "      <td>Regular Cab Pickup</td>\n",
       "      <td>25</td>\n",
       "      <td>19</td>\n",
       "      <td>1385</td>\n",
       "      <td>14770</td>\n",
       "    </tr>\n",
       "  </tbody>\n",
       "</table>\n",
       "</div>"
      ],
      "text/plain": [
       "               Make            Model  Year             Engine Fuel Type  \\\n",
       "5311  Mercedes-Benz  GLE-Class Coupe  2016  premium unleaded (required)   \n",
       "7241          Dodge            Nitro  2010             regular unleaded   \n",
       "201      Mitsubishi           3000GT  1999             regular unleaded   \n",
       "4733           Ford     Five Hundred  2006             regular unleaded   \n",
       "8778      Chevrolet             S-10  2003     flex-fuel (unleaded/E85)   \n",
       "\n",
       "      Engine HP  Engine Cylinders Transmission Type     Driven_Wheels  \\\n",
       "5311      577.0               8.0         AUTOMATIC   all wheel drive   \n",
       "7241      210.0               6.0         AUTOMATIC  rear wheel drive   \n",
       "201       320.0               6.0            MANUAL   all wheel drive   \n",
       "4733      203.0               6.0         AUTOMATIC   all wheel drive   \n",
       "8778      120.0               4.0            MANUAL  rear wheel drive   \n",
       "\n",
       "      Number of Doors                                  Market Category  \\\n",
       "5311              4.0  Crossover,Factory Tuner,Luxury,High-Performance   \n",
       "7241              4.0                                        Crossover   \n",
       "201               2.0              Hatchback,Factory Tuner,Performance   \n",
       "4733              4.0                                              NaN   \n",
       "8778              2.0                                        Flex Fuel   \n",
       "\n",
       "     Vehicle Size       Vehicle Style  highway MPG  city mpg  Popularity  \\\n",
       "5311      Midsize             4dr SUV           18        14         617   \n",
       "7241      Midsize             4dr SUV           22        16        1851   \n",
       "201       Compact       2dr Hatchback           22        16         436   \n",
       "4733        Large               Sedan           23        17        5657   \n",
       "8778      Compact  Regular Cab Pickup           25        19        1385   \n",
       "\n",
       "        MSRP  \n",
       "5311  109300  \n",
       "7241   23235  \n",
       "201     7600  \n",
       "4733   28230  \n",
       "8778   14770  "
      ]
     },
     "execution_count": 58,
     "metadata": {},
     "output_type": "execute_result"
    }
   ],
   "source": [
    "data = shuffle(data)\n",
    "data.head()"
   ]
  },
  {
   "cell_type": "code",
   "execution_count": 59,
   "metadata": {
    "collapsed": false
   },
   "outputs": [
    {
     "data": {
      "image/png": "[encoded data removed]",
      "text/plain": [
       "<matplotlib.figure.Figure at 0x21166c45828>"
      ]
     },
     "metadata": {},
     "output_type": "display_data"
    }
   ],
   "source": [
    "sns.heatmap(data.corr(), annot=True, fmt=\".2f\")\n",
    "plt.show()"
   ]
  },
  {
   "cell_type": "markdown",
   "metadata": {
    "collapsed": false
   },
   "source": [
    "A partir do mapa mostrado acima é possível identificar a influência (correlação) de uma variável sobre o preço de um carro. Dessa forma basta analisar e perceber que as três que apresentam maior proporcionalidade são: Ano de fabricação (Year), Potência do Motor (Engine HP) e número de cilindros (Engine Cylinders). Vale lembrar que isto era esperado, afinal essa ferramenta só é capaz de comparar dados quantitativos."
   ]
  },
  {
   "cell_type": "markdown",
   "metadata": {},
   "source": [
    "### Análise Descritiva"
   ]
  },
  {
   "cell_type": "markdown",
   "metadata": {},
   "source": [
    "A partir desta seção será reavaliada a ideia das variáveis e sua distribuição de acordo com o preço. Como por exemplo a \"Engine Cylinders\" será categorizado como uma espécie de força fornecida pelos cilindros ao carro e ainda observar onde a predominância do preço dos carros, separando em faixas de valor de compra/venda. "
   ]
  },
  {
   "cell_type": "code",
   "execution_count": 60,
   "metadata": {
    "collapsed": false
   },
   "outputs": [
    {
     "data": {
      "text/html": [
       "<div>\n",
       "<table border=\"1\" class=\"dataframe\">\n",
       "  <thead>\n",
       "    <tr style=\"text-align: right;\">\n",
       "      <th></th>\n",
       "      <th>Ano</th>\n",
       "      <th>Potência</th>\n",
       "      <th>Cilindros</th>\n",
       "      <th>Price</th>\n",
       "    </tr>\n",
       "  </thead>\n",
       "  <tbody>\n",
       "    <tr>\n",
       "      <th>5311</th>\n",
       "      <td>2016</td>\n",
       "      <td>577.0</td>\n",
       "      <td>8.0</td>\n",
       "      <td>109300</td>\n",
       "    </tr>\n",
       "    <tr>\n",
       "      <th>7241</th>\n",
       "      <td>2010</td>\n",
       "      <td>210.0</td>\n",
       "      <td>6.0</td>\n",
       "      <td>23235</td>\n",
       "    </tr>\n",
       "    <tr>\n",
       "      <th>201</th>\n",
       "      <td>1999</td>\n",
       "      <td>320.0</td>\n",
       "      <td>6.0</td>\n",
       "      <td>7600</td>\n",
       "    </tr>\n",
       "    <tr>\n",
       "      <th>4733</th>\n",
       "      <td>2006</td>\n",
       "      <td>203.0</td>\n",
       "      <td>6.0</td>\n",
       "      <td>28230</td>\n",
       "    </tr>\n",
       "    <tr>\n",
       "      <th>8778</th>\n",
       "      <td>2003</td>\n",
       "      <td>120.0</td>\n",
       "      <td>4.0</td>\n",
       "      <td>14770</td>\n",
       "    </tr>\n",
       "    <tr>\n",
       "      <th>4182</th>\n",
       "      <td>2009</td>\n",
       "      <td>177.0</td>\n",
       "      <td>4.0</td>\n",
       "      <td>29645</td>\n",
       "    </tr>\n",
       "    <tr>\n",
       "      <th>6206</th>\n",
       "      <td>2016</td>\n",
       "      <td>283.0</td>\n",
       "      <td>6.0</td>\n",
       "      <td>29795</td>\n",
       "    </tr>\n",
       "    <tr>\n",
       "      <th>7141</th>\n",
       "      <td>1993</td>\n",
       "      <td>160.0</td>\n",
       "      <td>6.0</td>\n",
       "      <td>2000</td>\n",
       "    </tr>\n",
       "    <tr>\n",
       "      <th>9611</th>\n",
       "      <td>2017</td>\n",
       "      <td>285.0</td>\n",
       "      <td>6.0</td>\n",
       "      <td>42075</td>\n",
       "    </tr>\n",
       "    <tr>\n",
       "      <th>923</th>\n",
       "      <td>2015</td>\n",
       "      <td>400.0</td>\n",
       "      <td>6.0</td>\n",
       "      <td>105630</td>\n",
       "    </tr>\n",
       "    <tr>\n",
       "      <th>5211</th>\n",
       "      <td>2010</td>\n",
       "      <td>160.0</td>\n",
       "      <td>4.0</td>\n",
       "      <td>23999</td>\n",
       "    </tr>\n",
       "    <tr>\n",
       "      <th>10004</th>\n",
       "      <td>2004</td>\n",
       "      <td>200.0</td>\n",
       "      <td>6.0</td>\n",
       "      <td>21975</td>\n",
       "    </tr>\n",
       "    <tr>\n",
       "      <th>8761</th>\n",
       "      <td>2002</td>\n",
       "      <td>190.0</td>\n",
       "      <td>6.0</td>\n",
       "      <td>20209</td>\n",
       "    </tr>\n",
       "    <tr>\n",
       "      <th>5348</th>\n",
       "      <td>2013</td>\n",
       "      <td>302.0</td>\n",
       "      <td>6.0</td>\n",
       "      <td>39090</td>\n",
       "    </tr>\n",
       "    <tr>\n",
       "      <th>9797</th>\n",
       "      <td>2002</td>\n",
       "      <td>120.0</td>\n",
       "      <td>4.0</td>\n",
       "      <td>17093</td>\n",
       "    </tr>\n",
       "    <tr>\n",
       "      <th>8308</th>\n",
       "      <td>2014</td>\n",
       "      <td>340.0</td>\n",
       "      <td>6.0</td>\n",
       "      <td>88300</td>\n",
       "    </tr>\n",
       "    <tr>\n",
       "      <th>4530</th>\n",
       "      <td>2016</td>\n",
       "      <td>282.0</td>\n",
       "      <td>6.0</td>\n",
       "      <td>32210</td>\n",
       "    </tr>\n",
       "    <tr>\n",
       "      <th>3482</th>\n",
       "      <td>2010</td>\n",
       "      <td>210.0</td>\n",
       "      <td>6.0</td>\n",
       "      <td>26325</td>\n",
       "    </tr>\n",
       "    <tr>\n",
       "      <th>2527</th>\n",
       "      <td>2017</td>\n",
       "      <td>131.0</td>\n",
       "      <td>4.0</td>\n",
       "      <td>23515</td>\n",
       "    </tr>\n",
       "    <tr>\n",
       "      <th>2749</th>\n",
       "      <td>2009</td>\n",
       "      <td>155.0</td>\n",
       "      <td>4.0</td>\n",
       "      <td>16460</td>\n",
       "    </tr>\n",
       "    <tr>\n",
       "      <th>1480</th>\n",
       "      <td>2005</td>\n",
       "      <td>190.0</td>\n",
       "      <td>6.0</td>\n",
       "      <td>22930</td>\n",
       "    </tr>\n",
       "    <tr>\n",
       "      <th>410</th>\n",
       "      <td>2017</td>\n",
       "      <td>155.0</td>\n",
       "      <td>4.0</td>\n",
       "      <td>20445</td>\n",
       "    </tr>\n",
       "    <tr>\n",
       "      <th>5924</th>\n",
       "      <td>2000</td>\n",
       "      <td>140.0</td>\n",
       "      <td>4.0</td>\n",
       "      <td>3130</td>\n",
       "    </tr>\n",
       "    <tr>\n",
       "      <th>1796</th>\n",
       "      <td>2014</td>\n",
       "      <td>140.0</td>\n",
       "      <td>4.0</td>\n",
       "      <td>32755</td>\n",
       "    </tr>\n",
       "    <tr>\n",
       "      <th>1519</th>\n",
       "      <td>2017</td>\n",
       "      <td>335.0</td>\n",
       "      <td>6.0</td>\n",
       "      <td>49495</td>\n",
       "    </tr>\n",
       "    <tr>\n",
       "      <th>7928</th>\n",
       "      <td>2009</td>\n",
       "      <td>320.0</td>\n",
       "      <td>8.0</td>\n",
       "      <td>55050</td>\n",
       "    </tr>\n",
       "    <tr>\n",
       "      <th>5186</th>\n",
       "      <td>2008</td>\n",
       "      <td>219.0</td>\n",
       "      <td>6.0</td>\n",
       "      <td>23100</td>\n",
       "    </tr>\n",
       "    <tr>\n",
       "      <th>6734</th>\n",
       "      <td>2017</td>\n",
       "      <td>300.0</td>\n",
       "      <td>6.0</td>\n",
       "      <td>34590</td>\n",
       "    </tr>\n",
       "    <tr>\n",
       "      <th>9296</th>\n",
       "      <td>2007</td>\n",
       "      <td>285.0</td>\n",
       "      <td>8.0</td>\n",
       "      <td>30340</td>\n",
       "    </tr>\n",
       "    <tr>\n",
       "      <th>5696</th>\n",
       "      <td>2009</td>\n",
       "      <td>242.0</td>\n",
       "      <td>5.0</td>\n",
       "      <td>43130</td>\n",
       "    </tr>\n",
       "    <tr>\n",
       "      <th>...</th>\n",
       "      <td>...</td>\n",
       "      <td>...</td>\n",
       "      <td>...</td>\n",
       "      <td>...</td>\n",
       "    </tr>\n",
       "    <tr>\n",
       "      <th>11270</th>\n",
       "      <td>2013</td>\n",
       "      <td>268.0</td>\n",
       "      <td>6.0</td>\n",
       "      <td>31120</td>\n",
       "    </tr>\n",
       "    <tr>\n",
       "      <th>4036</th>\n",
       "      <td>2010</td>\n",
       "      <td>261.0</td>\n",
       "      <td>6.0</td>\n",
       "      <td>30900</td>\n",
       "    </tr>\n",
       "    <tr>\n",
       "      <th>7382</th>\n",
       "      <td>2015</td>\n",
       "      <td>224.0</td>\n",
       "      <td>6.0</td>\n",
       "      <td>28195</td>\n",
       "    </tr>\n",
       "    <tr>\n",
       "      <th>3445</th>\n",
       "      <td>2008</td>\n",
       "      <td>210.0</td>\n",
       "      <td>6.0</td>\n",
       "      <td>26935</td>\n",
       "    </tr>\n",
       "    <tr>\n",
       "      <th>7539</th>\n",
       "      <td>2017</td>\n",
       "      <td>284.0</td>\n",
       "      <td>6.0</td>\n",
       "      <td>34670</td>\n",
       "    </tr>\n",
       "    <tr>\n",
       "      <th>7197</th>\n",
       "      <td>2008</td>\n",
       "      <td>150.0</td>\n",
       "      <td>5.0</td>\n",
       "      <td>18550</td>\n",
       "    </tr>\n",
       "    <tr>\n",
       "      <th>4101</th>\n",
       "      <td>2015</td>\n",
       "      <td>420.0</td>\n",
       "      <td>8.0</td>\n",
       "      <td>78695</td>\n",
       "    </tr>\n",
       "    <tr>\n",
       "      <th>8024</th>\n",
       "      <td>2008</td>\n",
       "      <td>210.0</td>\n",
       "      <td>6.0</td>\n",
       "      <td>25650</td>\n",
       "    </tr>\n",
       "    <tr>\n",
       "      <th>3320</th>\n",
       "      <td>1993</td>\n",
       "      <td>160.0</td>\n",
       "      <td>4.0</td>\n",
       "      <td>2000</td>\n",
       "    </tr>\n",
       "    <tr>\n",
       "      <th>242</th>\n",
       "      <td>1994</td>\n",
       "      <td>222.0</td>\n",
       "      <td>6.0</td>\n",
       "      <td>2553</td>\n",
       "    </tr>\n",
       "    <tr>\n",
       "      <th>5045</th>\n",
       "      <td>2017</td>\n",
       "      <td>231.0</td>\n",
       "      <td>4.0</td>\n",
       "      <td>36620</td>\n",
       "    </tr>\n",
       "    <tr>\n",
       "      <th>4208</th>\n",
       "      <td>2002</td>\n",
       "      <td>130.0</td>\n",
       "      <td>4.0</td>\n",
       "      <td>14315</td>\n",
       "    </tr>\n",
       "    <tr>\n",
       "      <th>9578</th>\n",
       "      <td>2016</td>\n",
       "      <td>355.0</td>\n",
       "      <td>8.0</td>\n",
       "      <td>45170</td>\n",
       "    </tr>\n",
       "    <tr>\n",
       "      <th>10728</th>\n",
       "      <td>2017</td>\n",
       "      <td>275.0</td>\n",
       "      <td>6.0</td>\n",
       "      <td>40770</td>\n",
       "    </tr>\n",
       "    <tr>\n",
       "      <th>8194</th>\n",
       "      <td>2010</td>\n",
       "      <td>215.0</td>\n",
       "      <td>6.0</td>\n",
       "      <td>20910</td>\n",
       "    </tr>\n",
       "    <tr>\n",
       "      <th>6754</th>\n",
       "      <td>2001</td>\n",
       "      <td>315.0</td>\n",
       "      <td>6.0</td>\n",
       "      <td>45990</td>\n",
       "    </tr>\n",
       "    <tr>\n",
       "      <th>11896</th>\n",
       "      <td>2014</td>\n",
       "      <td>335.0</td>\n",
       "      <td>6.0</td>\n",
       "      <td>65800</td>\n",
       "    </tr>\n",
       "    <tr>\n",
       "      <th>1080</th>\n",
       "      <td>2017</td>\n",
       "      <td>190.0</td>\n",
       "      <td>4.0</td>\n",
       "      <td>34900</td>\n",
       "    </tr>\n",
       "    <tr>\n",
       "      <th>10848</th>\n",
       "      <td>1995</td>\n",
       "      <td>134.0</td>\n",
       "      <td>4.0</td>\n",
       "      <td>2000</td>\n",
       "    </tr>\n",
       "    <tr>\n",
       "      <th>6785</th>\n",
       "      <td>2017</td>\n",
       "      <td>290.0</td>\n",
       "      <td>6.0</td>\n",
       "      <td>52360</td>\n",
       "    </tr>\n",
       "    <tr>\n",
       "      <th>158</th>\n",
       "      <td>2017</td>\n",
       "      <td>248.0</td>\n",
       "      <td>4.0</td>\n",
       "      <td>40750</td>\n",
       "    </tr>\n",
       "    <tr>\n",
       "      <th>6949</th>\n",
       "      <td>2003</td>\n",
       "      <td>185.0</td>\n",
       "      <td>6.0</td>\n",
       "      <td>25815</td>\n",
       "    </tr>\n",
       "    <tr>\n",
       "      <th>6092</th>\n",
       "      <td>2014</td>\n",
       "      <td>140.0</td>\n",
       "      <td>4.0</td>\n",
       "      <td>29465</td>\n",
       "    </tr>\n",
       "    <tr>\n",
       "      <th>11469</th>\n",
       "      <td>2017</td>\n",
       "      <td>268.0</td>\n",
       "      <td>4.0</td>\n",
       "      <td>26695</td>\n",
       "    </tr>\n",
       "    <tr>\n",
       "      <th>2631</th>\n",
       "      <td>1997</td>\n",
       "      <td>200.0</td>\n",
       "      <td>6.0</td>\n",
       "      <td>2925</td>\n",
       "    </tr>\n",
       "    <tr>\n",
       "      <th>3457</th>\n",
       "      <td>2009</td>\n",
       "      <td>210.0</td>\n",
       "      <td>6.0</td>\n",
       "      <td>23710</td>\n",
       "    </tr>\n",
       "    <tr>\n",
       "      <th>7825</th>\n",
       "      <td>2017</td>\n",
       "      <td>220.0</td>\n",
       "      <td>4.0</td>\n",
       "      <td>43150</td>\n",
       "    </tr>\n",
       "    <tr>\n",
       "      <th>3757</th>\n",
       "      <td>2000</td>\n",
       "      <td>349.0</td>\n",
       "      <td>8.0</td>\n",
       "      <td>6120</td>\n",
       "    </tr>\n",
       "    <tr>\n",
       "      <th>3010</th>\n",
       "      <td>2017</td>\n",
       "      <td>455.0</td>\n",
       "      <td>8.0</td>\n",
       "      <td>55450</td>\n",
       "    </tr>\n",
       "    <tr>\n",
       "      <th>1972</th>\n",
       "      <td>2003</td>\n",
       "      <td>190.0</td>\n",
       "      <td>6.0</td>\n",
       "      <td>26695</td>\n",
       "    </tr>\n",
       "  </tbody>\n",
       "</table>\n",
       "<p>11306 rows × 4 columns</p>\n",
       "</div>"
      ],
      "text/plain": [
       "        Ano  Potência  Cilindros   Price\n",
       "5311   2016     577.0        8.0  109300\n",
       "7241   2010     210.0        6.0   23235\n",
       "201    1999     320.0        6.0    7600\n",
       "4733   2006     203.0        6.0   28230\n",
       "8778   2003     120.0        4.0   14770\n",
       "4182   2009     177.0        4.0   29645\n",
       "6206   2016     283.0        6.0   29795\n",
       "7141   1993     160.0        6.0    2000\n",
       "9611   2017     285.0        6.0   42075\n",
       "923    2015     400.0        6.0  105630\n",
       "5211   2010     160.0        4.0   23999\n",
       "10004  2004     200.0        6.0   21975\n",
       "8761   2002     190.0        6.0   20209\n",
       "5348   2013     302.0        6.0   39090\n",
       "9797   2002     120.0        4.0   17093\n",
       "8308   2014     340.0        6.0   88300\n",
       "4530   2016     282.0        6.0   32210\n",
       "3482   2010     210.0        6.0   26325\n",
       "2527   2017     131.0        4.0   23515\n",
       "2749   2009     155.0        4.0   16460\n",
       "1480   2005     190.0        6.0   22930\n",
       "410    2017     155.0        4.0   20445\n",
       "5924   2000     140.0        4.0    3130\n",
       "1796   2014     140.0        4.0   32755\n",
       "1519   2017     335.0        6.0   49495\n",
       "7928   2009     320.0        8.0   55050\n",
       "5186   2008     219.0        6.0   23100\n",
       "6734   2017     300.0        6.0   34590\n",
       "9296   2007     285.0        8.0   30340\n",
       "5696   2009     242.0        5.0   43130\n",
       "...     ...       ...        ...     ...\n",
       "11270  2013     268.0        6.0   31120\n",
       "4036   2010     261.0        6.0   30900\n",
       "7382   2015     224.0        6.0   28195\n",
       "3445   2008     210.0        6.0   26935\n",
       "7539   2017     284.0        6.0   34670\n",
       "7197   2008     150.0        5.0   18550\n",
       "4101   2015     420.0        8.0   78695\n",
       "8024   2008     210.0        6.0   25650\n",
       "3320   1993     160.0        4.0    2000\n",
       "242    1994     222.0        6.0    2553\n",
       "5045   2017     231.0        4.0   36620\n",
       "4208   2002     130.0        4.0   14315\n",
       "9578   2016     355.0        8.0   45170\n",
       "10728  2017     275.0        6.0   40770\n",
       "8194   2010     215.0        6.0   20910\n",
       "6754   2001     315.0        6.0   45990\n",
       "11896  2014     335.0        6.0   65800\n",
       "1080   2017     190.0        4.0   34900\n",
       "10848  1995     134.0        4.0    2000\n",
       "6785   2017     290.0        6.0   52360\n",
       "158    2017     248.0        4.0   40750\n",
       "6949   2003     185.0        6.0   25815\n",
       "6092   2014     140.0        4.0   29465\n",
       "11469  2017     268.0        4.0   26695\n",
       "2631   1997     200.0        6.0    2925\n",
       "3457   2009     210.0        6.0   23710\n",
       "7825   2017     220.0        4.0   43150\n",
       "3757   2000     349.0        8.0    6120\n",
       "3010   2017     455.0        8.0   55450\n",
       "1972   2003     190.0        6.0   26695\n",
       "\n",
       "[11306 rows x 4 columns]"
      ]
     },
     "execution_count": 60,
     "metadata": {},
     "output_type": "execute_result"
    }
   ],
   "source": [
    "data = data.loc[data['Engine Cylinders']>0,['Year','Engine HP','Engine Cylinders','MSRP']]\n",
    "data = data.loc[data['MSRP']<125000,['Year','Engine HP','Engine Cylinders','MSRP']]\n",
    "data = data.loc[data['Engine HP']>0,['Year','Engine HP','Engine Cylinders','MSRP']]\n",
    "data.columns=[\"Ano\",\"Potência\",\"Cilindros\",\"Price\"]\n",
    "data.dropna()"
   ]
  },
  {
   "cell_type": "code",
   "execution_count": 61,
   "metadata": {
    "collapsed": false
   },
   "outputs": [],
   "source": [
    "#data.Price.describe()"
   ]
  },
  {
   "cell_type": "code",
   "execution_count": 62,
   "metadata": {
    "collapsed": false
   },
   "outputs": [
    {
     "data": {
      "text/plain": [
       "(5000, 8000]       0.291545\n",
       "(8000, 11000]      0.205161\n",
       "(11000, 14000]     0.831444\n",
       "(14000, 17000]     4.459562\n",
       "(17000, 20000]     6.046863\n",
       "(20000, 23000]     9.405032\n",
       "(23000, 26000]    11.186697\n",
       "(26000, 29000]    10.538819\n",
       "(29000, 32000]    10.679192\n",
       "(32000, 35000]     8.638376\n",
       "(35000, 38000]     7.482993\n",
       "(38000, 41000]     6.165641\n",
       "(41000, 44000]     5.344995\n",
       "(44000, 47000]     4.070835\n",
       "(47000, 50000]     3.358169\n",
       "(50000, 53000]     2.569917\n",
       "(53000, 56000]     1.997624\n",
       "(56000, 59000]     1.241767\n",
       "(59000, 62000]     1.382140\n",
       "(62000, 65000]     1.446928\n",
       "(65000, 68000]     0.950221\n",
       "(68000, 71000]     0.701868\n",
       "(71000, 74000]     0.442717\n",
       "(74000, 77000]     0.561494\n",
       "Name: Price, dtype: float64"
      ]
     },
     "execution_count": 62,
     "metadata": {},
     "output_type": "execute_result"
    }
   ],
   "source": [
    "faixa = range(5000,80000,3000)\n",
    "price = pd.cut(data.Price, bins=faixa)\n",
    "price.value_counts(sort=False, normalize=True)*100"
   ]
  },
  {
   "cell_type": "code",
   "execution_count": 63,
   "metadata": {
    "collapsed": false
   },
   "outputs": [
    {
     "data": {
      "image/png": "[encoded data removed]",
      "text/plain": [
       "<matplotlib.figure.Figure at 0x21166be15c0>"
      ]
     },
     "metadata": {},
     "output_type": "display_data"
    }
   ],
   "source": [
    "plot = data.Price.plot.hist(bins=faixa,title='Histograma de Distribuição do Preço dos Carros (H1)', figsize=(6, 6), alpha=0.9)\n",
    "plt.show()"
   ]
  },
  {
   "cell_type": "markdown",
   "metadata": {},
   "source": [
    "Histograma que possibilita a visualização da distribuição dos preços dos carros"
   ]
  },
  {
   "cell_type": "code",
   "execution_count": 64,
   "metadata": {
    "collapsed": false
   },
   "outputs": [
    {
     "data": {
      "text/html": [
       "<div>\n",
       "<table border=\"1\" class=\"dataframe\">\n",
       "  <thead>\n",
       "    <tr style=\"text-align: right;\">\n",
       "      <th></th>\n",
       "      <th>Ano</th>\n",
       "      <th>Potência</th>\n",
       "      <th>Cilindros</th>\n",
       "      <th>Price</th>\n",
       "    </tr>\n",
       "  </thead>\n",
       "  <tbody>\n",
       "    <tr>\n",
       "      <th>count</th>\n",
       "      <td>7914.000000</td>\n",
       "      <td>7914.000000</td>\n",
       "      <td>7914.000000</td>\n",
       "      <td>7914.000000</td>\n",
       "    </tr>\n",
       "    <tr>\n",
       "      <th>mean</th>\n",
       "      <td>2010.263331</td>\n",
       "      <td>236.582638</td>\n",
       "      <td>5.450847</td>\n",
       "      <td>31362.544225</td>\n",
       "    </tr>\n",
       "    <tr>\n",
       "      <th>std</th>\n",
       "      <td>7.734335</td>\n",
       "      <td>91.875278</td>\n",
       "      <td>1.456361</td>\n",
       "      <td>20448.417425</td>\n",
       "    </tr>\n",
       "    <tr>\n",
       "      <th>min</th>\n",
       "      <td>1990.000000</td>\n",
       "      <td>62.000000</td>\n",
       "      <td>3.000000</td>\n",
       "      <td>2000.000000</td>\n",
       "    </tr>\n",
       "    <tr>\n",
       "      <th>25%</th>\n",
       "      <td>2006.000000</td>\n",
       "      <td>170.000000</td>\n",
       "      <td>4.000000</td>\n",
       "      <td>20416.250000</td>\n",
       "    </tr>\n",
       "    <tr>\n",
       "      <th>50%</th>\n",
       "      <td>2015.000000</td>\n",
       "      <td>220.000000</td>\n",
       "      <td>6.000000</td>\n",
       "      <td>29352.500000</td>\n",
       "    </tr>\n",
       "    <tr>\n",
       "      <th>75%</th>\n",
       "      <td>2016.000000</td>\n",
       "      <td>290.000000</td>\n",
       "      <td>6.000000</td>\n",
       "      <td>40007.500000</td>\n",
       "    </tr>\n",
       "    <tr>\n",
       "      <th>max</th>\n",
       "      <td>2017.000000</td>\n",
       "      <td>707.000000</td>\n",
       "      <td>12.000000</td>\n",
       "      <td>124100.000000</td>\n",
       "    </tr>\n",
       "  </tbody>\n",
       "</table>\n",
       "</div>"
      ],
      "text/plain": [
       "               Ano     Potência    Cilindros          Price\n",
       "count  7914.000000  7914.000000  7914.000000    7914.000000\n",
       "mean   2010.263331   236.582638     5.450847   31362.544225\n",
       "std       7.734335    91.875278     1.456361   20448.417425\n",
       "min    1990.000000    62.000000     3.000000    2000.000000\n",
       "25%    2006.000000   170.000000     4.000000   20416.250000\n",
       "50%    2015.000000   220.000000     6.000000   29352.500000\n",
       "75%    2016.000000   290.000000     6.000000   40007.500000\n",
       "max    2017.000000   707.000000    12.000000  124100.000000"
      ]
     },
     "execution_count": 64,
     "metadata": {},
     "output_type": "execute_result"
    }
   ],
   "source": [
    "from sklearn.model_selection import train_test_split as split\n",
    "train, test = split(data, test_size=0.3)\n",
    "train.describe()"
   ]
  },
  {
   "cell_type": "code",
   "execution_count": 65,
   "metadata": {
    "collapsed": false
   },
   "outputs": [
    {
     "data": {
      "image/png": "[encoded data removed]",
      "text/plain": [
       "<matplotlib.figure.Figure at 0x21166e6cb70>"
      ]
     },
     "metadata": {},
     "output_type": "display_data"
    }
   ],
   "source": [
    "import seaborn as sns\n",
    "%matplotlib inline\n",
    "h = sns.pairplot(train,x_vars=minhascolunas,y_vars=\"Price\",size=7,aspect=0.7,kind = 'reg')\n",
    "plt.show()"
   ]
  },
  {
   "cell_type": "markdown",
   "metadata": {},
   "source": [
    "___\n",
    "## MODELOS DE PREDIÇÃO"
   ]
  },
  {
   "cell_type": "markdown",
   "metadata": {
    "collapsed": true
   },
   "source": [
    "[O tópico C.PROCESSO E ESTATÍSTICAS DE VALIDAÇÃO estará dentro deste tópico. Organize-o aqui de forma clara!]\n",
    "\n",
    "[ORGANIZE AQUI TODOS OS MODELOS DE PREDIÇÃO NECESSÁRIOS NESTE PROJETO!]"
   ]
  },
  {
   "cell_type": "markdown",
   "metadata": {
    "collapsed": true
   },
   "source": [
    "o MODELO DE PREDIÇÃO PELA MÉDIA\n",
    "\n",
    "o MODELO DOS K VIZINHOS MAIS PRÓXIMOS (K-Nearest Neighbors Regression)\n",
    "\n",
    "o MODELO DE REGRESSÃO LINEAR (Multiple Linear Regression)\n",
    "\n",
    "o MODELO DE ÁRVORES DE REGRESSÃO (Decision Tree Regression)"
   ]
  },
  {
   "cell_type": "markdown",
   "metadata": {},
   "source": [
    "## MODELO DE PREDIÇÃO PELA MÉDIA"
   ]
  },
  {
   "cell_type": "markdown",
   "metadata": {},
   "source": [
    "### O primeiro modelo de predição realizado foi pela média, que consiste basicamente na análise da média da variável que esperamos prever, no caso o preço dos carros. Para isso basta analisar a média de preços e essa será o valor esperado para o carro"
   ]
  },
  {
   "cell_type": "code",
   "execution_count": 66,
   "metadata": {
    "collapsed": false
   },
   "outputs": [
    {
     "name": "stdout",
     "output_type": "stream",
     "text": [
      "O preço esperado de um carro a partir da predição pela média é: 31362.544225423302\n"
     ]
    }
   ],
   "source": [
    "print('O preço esperado de um carro a partir da predição pela média é:',train.Price.mean())"
   ]
  },
  {
   "cell_type": "markdown",
   "metadata": {},
   "source": [
    "### Coeficiente de determinação (R2) e Raiz do erro médio quadrático (RMS)"
   ]
  },
  {
   "cell_type": "code",
   "execution_count": 67,
   "metadata": {
    "collapsed": false
   },
   "outputs": [
    {
     "name": "stdout",
     "output_type": "stream",
     "text": [
      "[0.0]\n",
      "[20447.12546955033]\n"
     ]
    }
   ],
   "source": [
    "n = len(train)\n",
    "fi = train.Price.mean()\n",
    "ybarra = train.Price.mean()\n",
    "yi=train.Price\n",
    "\n",
    "def R2treino (ybarra, fi, yi):\n",
    "    a = ((yi-fi)**2).sum()\n",
    "    b = ((yi-ybarra)**2).sum()\n",
    "    r2=1-(a/b)\n",
    "    return[r2]\n",
    "\n",
    "def RSMtreino (ybarra, fi, yi):\n",
    "    c = ((yi-ybarra)**2).sum()\n",
    "    raiz = ((1/n)*c)**0.5\n",
    "    return[raiz]\n",
    "    \n",
    "print (R2treino(ybarra, fi, yi))\n",
    "print (RSMtreino(ybarra, fi, yi))\n"
   ]
  },
  {
   "cell_type": "code",
   "execution_count": 68,
   "metadata": {
    "collapsed": false
   },
   "outputs": [
    {
     "name": "stdout",
     "output_type": "stream",
     "text": [
      "[0.0]\n",
      "[20839.58169973698]\n"
     ]
    }
   ],
   "source": [
    "n = len(test)\n",
    "fi = test.Price.mean()\n",
    "ybarra = test.Price.mean()\n",
    "yi=test.Price\n",
    "\n",
    "def R2teste (ybarra, fi, yi):\n",
    "    a = ((yi-fi)**2).sum()\n",
    "    b = ((yi-ybarra)**2).sum()\n",
    "    r2=1-(a/b)\n",
    "    return[r2]\n",
    "\n",
    "def RSMteste (ybarra, fi, yi):\n",
    "    c = ((yi-ybarra)**2).sum()\n",
    "    raiz = ((1/n)*c)**0.5\n",
    "    return[raiz]\n",
    "    \n",
    "print (R2teste(ybarra, fi, yi))\n",
    "print (RSMteste(ybarra, fi, yi))"
   ]
  },
  {
   "cell_type": "code",
   "execution_count": 69,
   "metadata": {
    "collapsed": false
   },
   "outputs": [
    {
     "name": "stdout",
     "output_type": "stream",
     "text": [
      "A qualidade deste modelo é de 0.9669295828185879\n",
      "Neste modelo, R2train = R2test\n",
      "Não está \"overfiting\" pois RSMtrain/RMStest < 1. \n"
     ]
    }
   ],
   "source": [
    "Qualidade = 20350/21046\n",
    "print('A qualidade deste modelo é de', Qualidade)\n",
    "print('Neste modelo, R2train = R2test')\n",
    "print('Não está \"overfiting\" pois RSMtrain/RMStest < 1. ')"
   ]
  },
  {
   "cell_type": "markdown",
   "metadata": {},
   "source": [
    "## MODELO DOS K VIZINHOS MAIS PRÓXIMOS (K-Nearest Neighbors Regression)"
   ]
  },
  {
   "cell_type": "markdown",
   "metadata": {},
   "source": [
    "### A seguir deve ser feito um segundo modelo de predição, no caso o chamado K-Nearest Neighbors Regression, que consiste basicamente em prever o valor do carro baseado em seus vizinhos mais próximos e seus atributos (exceto preço, já que este é usado para o cálculo da média). Isto é, este modelo se fundamenta em descobrir o valor do preço através de uma média dos preços de seus k vizinhos mais próximos. Para determinar quais são os vizinhos mais próximos, um cáclulo é feito e os vizinhos são selecionados."
   ]
  },
  {
   "cell_type": "code",
   "execution_count": 70,
   "metadata": {
    "collapsed": false
   },
   "outputs": [
    {
     "name": "stdout",
     "output_type": "stream",
     "text": [
      "0.0969225327202\n"
     ]
    }
   ],
   "source": [
    "x = np.array(data.drop(['Price'],1))\n",
    "y = np.array(data['Price'])\n",
    "\n",
    "x_train, x_test,y_train, y_test=cross_validation.train_test_split(x,y,test_size=0.25)\n",
    "clf=neighbors.KNeighborsClassifier()\n",
    "clf.fit(x_train, y_train)\n",
    "accuracy=clf.score(x_test, y_test)\n",
    "print (accuracy)"
   ]
  },
  {
   "cell_type": "markdown",
   "metadata": {},
   "source": [
    "### Na célula acima foi determinado o alvo à predição: \"Price\". A base train (25%) e test(75%) foi separada. Além disso uma nova ferramenta foi disposta para verificar a veracidade dos dados: \"accuracy\". Apesar do \"accuracy estar próximo a 10%, o valor (\"Price\") deste modelo de regressão não ficou muito distante do valor (\"Price\") real."
   ]
  },
  {
   "cell_type": "code",
   "execution_count": 71,
   "metadata": {
    "collapsed": false
   },
   "outputs": [
    {
     "name": "stdout",
     "output_type": "stream",
     "text": [
      "Digite o ano (2006 até 2017): 2010\n",
      "Digite a potencia (150 até 707): 300\n",
      "Digite a quantidade de cilindros (3 até 12): 6\n",
      "[46830]\n"
     ]
    }
   ],
   "source": [
    "ano = input('Digite o ano (2006 até 2017): ')\n",
    "potencia = input(\"Digite a potencia (150 até 707): \")\n",
    "cilindros = input(\"Digite a quantidade de cilindros (3 até 12): \")\n",
    "\n",
    "ee=np.array([ano,potencia,cilindros])\n",
    "ee=ee.reshape(1,-1)\n",
    "prediction = clf.predict(ee)\n",
    "print(prediction)"
   ]
  },
  {
   "cell_type": "markdown",
   "metadata": {},
   "source": [
    "### Há aqui uma interação entre o usuário e o programa. Sendo que, através da célula acima e do modelo de ressão dos K-vizinhos mais próximos, o usuário é capaz de prever o preço de um carro digitando seu ano, sua potência e sua quantidade de cilindros."
   ]
  },
  {
   "cell_type": "markdown",
   "metadata": {},
   "source": [
    "### Coeficiente de determinação (R2) e Raiz do erro médio quadrático (RMS)"
   ]
  },
  {
   "cell_type": "code",
   "execution_count": 72,
   "metadata": {
    "collapsed": false
   },
   "outputs": [
    {
     "name": "stdout",
     "output_type": "stream",
     "text": [
      "[0.999733584210183]\n",
      "[20447.12546955033]\n"
     ]
    }
   ],
   "source": [
    "n = len(train)\n",
    "fi = prediction\n",
    "ybarra = train.Price.mean()\n",
    "yi=train.Price\n",
    "\n",
    "def R2 (ybarra, fi, yi):\n",
    "    a = ((yi-fi)**2).sum()\n",
    "    b = ((yi-ybarra)**2).sum()\n",
    "    r2=1-(a/b)\n",
    "    return[r2]\n",
    "\n",
    "def RSM (ybarra, fi, yi):\n",
    "    c = ((yi-ybarra)**2).sum()\n",
    "    raiz = ((1/n)*c)**0.5\n",
    "    return[raiz]\n",
    "    \n",
    "print (R2(ybarra, fi, yi))\n",
    "print (RSM(ybarra, fi, yi))"
   ]
  },
  {
   "cell_type": "code",
   "execution_count": 73,
   "metadata": {
    "collapsed": false
   },
   "outputs": [
    {
     "name": "stdout",
     "output_type": "stream",
     "text": [
      "[0.9989362800005643]\n",
      "[20839.58169973698]\n"
     ]
    }
   ],
   "source": [
    "n = len(test)\n",
    "fi = prediction\n",
    "ybarra = test.Price.mean()\n",
    "yi=test.Price\n",
    "\n",
    "def R2 (ybarra, fi, yi):\n",
    "    a = ((yi-fi)**2).sum()\n",
    "    b = ((yi-ybarra)**2).sum()\n",
    "    r2=1-(a/b)\n",
    "    return[r2]\n",
    "\n",
    "def RSM (ybarra, fi, yi):\n",
    "    c = ((yi-ybarra)**2).sum()\n",
    "    raiz = ((1/n)*c)**0.5\n",
    "    return[raiz]\n",
    "    \n",
    "print (R2(ybarra, fi, yi))\n",
    "print (RSM(ybarra, fi, yi))"
   ]
  },
  {
   "cell_type": "code",
   "execution_count": 74,
   "metadata": {
    "collapsed": false
   },
   "outputs": [
    {
     "name": "stdout",
     "output_type": "stream",
     "text": [
      "A qualidade deste modelo é de 1.0007339926991046\n",
      "Está \"overfiting\" pois R2train/R2test > 1. \n"
     ]
    }
   ],
   "source": [
    "QualidadeR2 = 0.9999259/0.9991925\n",
    "print('A qualidade deste modelo é de', QualidadeR2)\n",
    "print('Está \"overfiting\" pois R2train/R2test > 1. ')"
   ]
  },
  {
   "cell_type": "markdown",
   "metadata": {},
   "source": [
    "## MODELO DE REGRESSÃO LINEAR (Multiple Linear Regression)"
   ]
  },
  {
   "cell_type": "markdown",
   "metadata": {},
   "source": [
    "### O próximo modelo preditivo a ser realizado para análise dos preços de carro é pelo método de regressão linear múltipla, este se baseia na estimativa de uma variável desejada a partir de outras que tenham influência sobre àquela. Sendo que por se tratar de uma função linear os parâmetros se organizam em uma equação de mesma natureza, ou seja a dependência da variável alvo, no caso preço de um carro, depende de outras linearmente.  "
   ]
  },
  {
   "cell_type": "code",
   "execution_count": 75,
   "metadata": {
    "collapsed": false,
    "scrolled": true
   },
   "outputs": [
    {
     "data": {
      "text/html": [
       "<table class=\"simpletable\">\n",
       "<caption>OLS Regression Results</caption>\n",
       "<tr>\n",
       "  <th>Dep. Variable:</th>          <td>Price</td>      <th>  R-squared:         </th> <td>   0.727</td> \n",
       "</tr>\n",
       "<tr>\n",
       "  <th>Model:</th>                   <td>OLS</td>       <th style=\"background-color:#aec7e8;\"> Adj. R-squared: </th> <td>   0.727</td> \n",
       "</tr>\n",
       "<tr>\n",
       "  <th>Method:</th>             <td>Least Squares</td>  <th>  F-statistic:       </th> <td>   7021.</td> \n",
       "</tr>\n",
       "<tr>\n",
       "  <th>Date:</th>             <td>Tue, 05 Jun 2018</td> <th>  Prob (F-statistic):</th>  <td>  0.00</td>  \n",
       "</tr>\n",
       "<tr>\n",
       "  <th>Time:</th>                 <td>16:57:12</td>     <th>  Log-Likelihood:    </th> <td> -84644.</td> \n",
       "</tr>\n",
       "<tr>\n",
       "  <th>No. Observations:</th>      <td>  7914</td>      <th>  AIC:               </th> <td>1.693e+05</td>\n",
       "</tr>\n",
       "<tr>\n",
       "  <th>Df Residuals:</th>          <td>  7910</td>      <th>  BIC:               </th> <td>1.693e+05</td>\n",
       "</tr>\n",
       "<tr>\n",
       "  <th>Df Model:</th>              <td>     3</td>      <th>                     </th>     <td> </td>    \n",
       "</tr>\n",
       "<tr>\n",
       "  <th>Covariance Type:</th>      <td>nonrobust</td>    <th>                     </th>     <td> </td>    \n",
       "</tr>\n",
       "</table>\n",
       "<table class=\"simpletable\">\n",
       "<tr>\n",
       "      <td></td>         <th style=\"background-color:#ffbb78;\">coef</th>     <th style=\"background-color:#c7e9c0;\">std err</th>      <th>t</th>      <th style=\"background-color:#bcbddc;\">P>|t|</th> <th>[95.0% Conf. Int.]</th> \n",
       "</tr>\n",
       "<tr>\n",
       "  <th>const</th>     <td>-1.642e+06</td> <td> 4.03e+04</td> <td>  -40.769</td> <td> 0.000</td> <td>-1.72e+06 -1.56e+06</td>\n",
       "</tr>\n",
       "<tr>\n",
       "  <th>Ano</th>       <td>  816.7167</td> <td>   20.003</td> <td>   40.831</td> <td> 0.000</td> <td>  777.506   855.927</td>\n",
       "</tr>\n",
       "<tr>\n",
       "  <th>Potência</th>  <td>  164.5532</td> <td>    2.407</td> <td>   68.375</td> <td> 0.000</td> <td>  159.836   169.271</td>\n",
       "</tr>\n",
       "<tr>\n",
       "  <th>Cilindros</th> <td>-1432.7573</td> <td>  140.066</td> <td>  -10.229</td> <td> 0.000</td> <td>-1707.323 -1158.191</td>\n",
       "</tr>\n",
       "</table>\n",
       "<table class=\"simpletable\">\n",
       "<tr>\n",
       "  <th>Omnibus:</th>       <td>1974.465</td> <th>  Durbin-Watson:     </th> <td>   1.985</td>\n",
       "</tr>\n",
       "<tr>\n",
       "  <th>Prob(Omnibus):</th>  <td> 0.000</td>  <th>  Jarque-Bera (JB):  </th> <td>8846.567</td>\n",
       "</tr>\n",
       "<tr>\n",
       "  <th>Skew:</th>           <td> 1.149</td>  <th>  Prob(JB):          </th> <td>    0.00</td>\n",
       "</tr>\n",
       "<tr>\n",
       "  <th>Kurtosis:</th>       <td> 7.642</td>  <th>  Cond. No.          </th> <td>6.79e+05</td>\n",
       "</tr>\n",
       "</table>"
      ],
      "text/plain": [
       "<IPython.core.display.HTML object>"
      ]
     },
     "execution_count": 75,
     "metadata": {},
     "output_type": "execute_result"
    }
   ],
   "source": [
    "from IPython.display import HTML, display\n",
    "import statsmodels.api as sm\n",
    "from statsmodels.formula.api import ols\n",
    "Y = train['Price']\n",
    "minhascolunas=['Ano','Potência','Cilindros']\n",
    "X=train[['Ano','Potência','Cilindros']]\n",
    "X=sm.add_constant(X)\n",
    "model = sm.OLS(Y,X)\n",
    "Tabelareg = model.fit()\n",
    "Tabelareg_summary = Tabelareg.summary()\n",
    "HTML(\n",
    "(Tabelareg_summary\n",
    "    .as_html()\n",
    "    .replace('<th>  Adj. R-squared:    </th>', '<th style=\"background-color:#aec7e8;\"> Adj. R-squared: </th>')\n",
    "    .replace('<th>coef</th>', '<th style=\"background-color:#ffbb78;\">coef</th>')\n",
    "    .replace('<th>std err</th>', '<th style=\"background-color:#c7e9c0;\">std err</th>')\n",
    "    .replace('<th>P>|t|</th>', '<th style=\"background-color:#bcbddc;\">P>|t|</th>')\n",
    "    .replace('<th>[0.025</th>    <th>0.975]</th>', '<th style=\"background-color:#ff9896;\">[0.025</th>    <th style=\"background-color:#ff9896;\">0.975]</th>'))\n",
    ")"
   ]
  },
  {
   "cell_type": "code",
   "execution_count": 76,
   "metadata": {
    "collapsed": false
   },
   "outputs": [
    {
     "data": {
      "image/png": "[encoded data removed]",
      "text/plain": [
       "<matplotlib.figure.Figure at 0x211626ad668>"
      ]
     },
     "metadata": {},
     "output_type": "display_data"
    }
   ],
   "source": [
    "plt.plot(Y,Tabelareg.predict(X),'o',color='red',alpha=0.5\n",
    "plt.show()"
   ]
  },
  {
   "cell_type": "markdown",
   "metadata": {},
   "source": [
    "### Coeficiente de determinação (R2) e Raiz do erro médio quadrático (RMS)"
   ]
  },
  {
   "cell_type": "code",
   "execution_count": null,
   "metadata": {
    "collapsed": true
   },
   "outputs": [],
   "source": []
  },
  {
   "cell_type": "markdown",
   "metadata": {},
   "source": [
    "___\n",
    "## CONCLUSÃO"
   ]
  },
  {
   "cell_type": "markdown",
   "metadata": {},
   "source": [
    "### Após todo o processo de análise da divisão de preços, por análise descritiva e modelos de predição o estudo foi capaz de mostrar como era a real influência de 3 variáveis no preço de um carro. As três variáveis escolhidas foram baseadas além de uma análise descritiva, mostrando como era o preço em função destas, mostrado pelos gráficos Price x Ano; Price x Potência e Price x Cilindros e pelo 'HeatMap' (figura 1), capaz de avaliar a correlação entre cada variável. Sendo assim pode-se concluir que as variáveis definidas como Ano, Potência e Cilindros (Número de Cilindros no motor do carro) eram as que apresentavam maior influência sobre o preço de um carro na base de dados do estudo, como mostrado no início deste na seção de mineração de dados e análise descritiva.\n",
    "### Em seguida foi importante analisar entre faixas de preço, onde se dava a maior incidência dos carros, ou seja entre quais preços estava distribuído maior número de carros. A partir disso já era possível concluir o formato de distribuição, observando o gráfico do Histograma, pode-se concluir que há uma assimetria à direita positiva.\n",
    "### A partir dessas conclusões iniciais partiu-se para a montagem de modelos de predição, entre eles: Modelo pela Média, K vizinhos mais próximos e de Regressão Linear. Para isso foi necessário antes dividir a base de dados inicial ('data') em teste e treinamento, e usar a de treinamento para cada um desses modelos. Por fim foi necessário analisar o coeficiente de determinação de cada e seu erro médio quadrático, conhecido por RMS. \n",
    "### O modelo inicial, de predição pela Média, basicamente mostra que o preço esperado de um carro na base de dados de treinamento é o valor médio dos preços e portanto apresenta uma análise superficial, tanto que seu coeficiente de determinação é 0, e este se mostra eficiente quanto mais próximo de 1.\n",
    "### O modelo de K-vizinhos mais próximos explicado em comentários durante o desenvolvimento do mesmo.\n",
    "### O modelo de Regressão Linear escolhido foi por OLS e consiste em um modelo de regressão múltipla, afinal há 3 variáveis de influência para a variável alvo, o preço do carro. Este se apresenta mais eficiente e pode mostrar graficamente o comportamento entre preço esperado e preço real. Isso porque o modelo apresenta uma equação linear que abrange as 3 variáveis juntamente com seus coeficientes determinados pela tabela OLS (tabela 1) e assim pode-se criar uma lista com todos estes valores e posteriormente o gráfico da Regressão Linear, onde cada ponto representa o valor (Price) estimado quando os parâmetros 'Ano', 'Potência' e 'Cilindros' são levados em consideração para o cálculo"
   ]
  },
  {
   "cell_type": "markdown",
   "metadata": {},
   "source": [
    "___\n",
    "## REFERÊNCIAS BIBLIOGRÁFICAS"
   ]
  },
  {
   "cell_type": "markdown",
   "metadata": {},
   "source": [
    "Site do qual retiramos a base de dados: https://www.kaggle.com/jshih7/car-price-prediction?scriptVersionId=584464/data\n",
    "\n",
    "Estudo sobre o K-Nearest: http://scholarpedia.org/article/K-nearest_neighbor\n",
    "\n",
    "Estudo sobre a Regressão Linear \"Ridge\": http://repositorio.unicamp.br/bitstream/REPOSIP/306421/1/Reynaldo_Cristiane_M.pdf"
   ]
  }
 ],
 "metadata": {
  "anaconda-cloud": {},
  "kernelspec": {
   "display_name": "Python 3",
   "language": "python",
   "name": "python3"
  },
  "language_info": {
   "codemirror_mode": {
    "name": "ipython",
    "version": 3
   },
   "file_extension": ".py",
   "mimetype": "text/x-python",
   "name": "python",
   "nbconvert_exporter": "python",
   "pygments_lexer": "ipython3",
   "version": "3.6.0"
  }
 },
 "nbformat": 4,
 "nbformat_minor": 1
}
